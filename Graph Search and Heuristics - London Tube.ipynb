{
 "cells": [
  {
   "cell_type": "markdown",
   "id": "40092e0d-52ae-4d76-9410-7907574b763c",
   "metadata": {},
   "source": [
    "## Set Up"
   ]
  },
  {
   "cell_type": "code",
   "execution_count": 3,
   "id": "918f2833-565b-4947-8307-0658b0e0ed67",
   "metadata": {},
   "outputs": [],
   "source": [
    "import pandas as pd\n",
    "from collections import defaultdict\n",
    "import networkx as nx\n",
    "import matplotlib.pyplot as plt\n",
    "from queue import PriorityQueue\n",
    "import math\n",
    "import random"
   ]
  },
  {
   "cell_type": "code",
   "execution_count": 4,
   "id": "ef8fb813-a734-451d-a1b3-8f7cc85a0cad",
   "metadata": {},
   "outputs": [
    {
     "data": {
      "text/html": [
       "<div>\n",
       "<style scoped>\n",
       "    .dataframe tbody tr th:only-of-type {\n",
       "        vertical-align: middle;\n",
       "    }\n",
       "\n",
       "    .dataframe tbody tr th {\n",
       "        vertical-align: top;\n",
       "    }\n",
       "\n",
       "    .dataframe thead th {\n",
       "        text-align: right;\n",
       "    }\n",
       "</style>\n",
       "<table border=\"1\" class=\"dataframe\">\n",
       "  <thead>\n",
       "    <tr style=\"text-align: right;\">\n",
       "      <th></th>\n",
       "      <th>0</th>\n",
       "      <th>1</th>\n",
       "      <th>2</th>\n",
       "      <th>3</th>\n",
       "      <th>4</th>\n",
       "      <th>5</th>\n",
       "    </tr>\n",
       "  </thead>\n",
       "  <tbody>\n",
       "    <tr>\n",
       "      <th>0</th>\n",
       "      <td>Harrow &amp; Wealdstone</td>\n",
       "      <td>Kenton</td>\n",
       "      <td>Bakerloo</td>\n",
       "      <td>3</td>\n",
       "      <td>5</td>\n",
       "      <td>0</td>\n",
       "    </tr>\n",
       "    <tr>\n",
       "      <th>1</th>\n",
       "      <td>Kenton</td>\n",
       "      <td>South Kenton</td>\n",
       "      <td>Bakerloo</td>\n",
       "      <td>2</td>\n",
       "      <td>4</td>\n",
       "      <td>0</td>\n",
       "    </tr>\n",
       "  </tbody>\n",
       "</table>\n",
       "</div>"
      ],
      "text/plain": [
       "                     0             1         2  3  4  5\n",
       "0  Harrow & Wealdstone        Kenton  Bakerloo  3  5  0\n",
       "1               Kenton  South Kenton  Bakerloo  2  4  0"
      ]
     },
     "execution_count": 4,
     "metadata": {},
     "output_type": "execute_result"
    }
   ],
   "source": [
    "df = pd.read_csv('tubedata.csv', header=None)\n",
    "df.head(2)"
   ]
  },
  {
   "cell_type": "markdown",
   "id": "28ea73fb-897c-4a11-b189-cc82be264232",
   "metadata": {},
   "source": [
    "The following code is taken from the Assignment Specifications.\n",
    "\n",
    "I have added line information to the station list so that the line connecting two stations is inlcuded along with the weight. I orignally intended to include line details in anticipation of 2.3, but found that it was needed in 2.1 as well.\n",
    "\n",
    "I also edited the zone dictionary so that it is created in two stages. My hueristic depends on calculating the minimum cost between any given pair of zones. This involves"
   ]
  },
  {
   "cell_type": "markdown",
   "id": "6c86737e-8f30-4f52-ac11-cce65fafbd5d",
   "metadata": {},
   "source": [
    "### Dictionary Preperation"
   ]
  },
  {
   "cell_type": "markdown",
   "id": "f4802e87-407e-4889-b7f5-ecd6c576db8d",
   "metadata": {},
   "source": [
    "Method provided by assignment"
   ]
  },
  {
   "cell_type": "code",
   "execution_count": 5,
   "id": "1c308a31-1e37-4674-bea7-d266a9868108",
   "metadata": {},
   "outputs": [],
   "source": [
    "station_dict = defaultdict(list)\n",
    "zone_dict = defaultdict(set)\n",
    "\n",
    "# get data row by row\n",
    "for index, row in df.iterrows():\n",
    "    start_station = row[0]\n",
    "    end_station = row[1]\n",
    "    line = row[2]\n",
    "    \n",
    "    act_cost = int(row[3])\n",
    "\n",
    "    zone1 = row[4]\n",
    "    zone2 = row[5]\n",
    "\n",
    "    # station dictionary of child station tuples (child_name, line_name, cost from parent to the child)\n",
    "    # {\"Mile End\": [(\"Stepney Green\", \"District\", 2), (\"Wembley\", \"Hammersmith & City\",  1)]}\n",
    "    station_list = station_dict[start_station]\n",
    "    station_list.append((end_station, act_cost, line))\n",
    "\n",
    "    # the following two lines add the other direction of the tube \"step\"\n",
    "    station_list = station_dict[end_station]\n",
    "    station_list.append((start_station, act_cost, line))\n",
    "\n",
    "   # we add the main zone\n",
    "    zone_dict[start_station].add(zone1)\n",
    "    # we add the secondary zone\n",
    "    if zone2 != \"0\":\n",
    "        zone_dict[start_station].add(zone2)\n",
    "    # if the secondary zone is not 0 it's the main zone for the ending station\n",
    "        zone_dict[end_station].add(zone2)\n",
    "    else:\n",
    "    # otherwise the main zone for the ending station is the same as for the starting station\n",
    "        zone_dict[end_station].add(zone1)"
   ]
  },
  {
   "cell_type": "markdown",
   "id": "72bda6c7-85e8-46de-b970-041f3bfd5801",
   "metadata": {},
   "source": [
    "The given method for constructing the zone data results in some strange cases. The example below show cases a station that is located in three zones. \n",
    "\n",
    "Considering that zones are radial and where gants hill is located on the current zone map, I believe this a product of the use of the secondary and primary zones to fill in zone details in tube data. As described on the forum, some stations don't have a connection between stations where they are listed as the starting station.To improve the hueristic in 2.4, I will take a slightly different approach to the zone data dictionary. The reasoning for going through these steps will be apparent once the hueristic is constructed"
   ]
  },
  {
   "cell_type": "code",
   "execution_count": 6,
   "id": "0bc94404-6d27-4279-ab07-c1f146c83c72",
   "metadata": {},
   "outputs": [
    {
     "data": {
      "text/plain": [
       "{'4', '5', '6'}"
      ]
     },
     "execution_count": 6,
     "metadata": {},
     "output_type": "execute_result"
    }
   ],
   "source": [
    "zone_dict['Gants Hill']"
   ]
  },
  {
   "cell_type": "markdown",
   "id": "a806e9d6-1401-4baa-9ebd-97f25d4da425",
   "metadata": {},
   "source": [
    "To improve the hueristic in 2.4, I will take a slightly different approach to the zone data dictionary. The reasoning for going through these steps will be apparent once the hueristic is constructed"
   ]
  },
  {
   "cell_type": "markdown",
   "id": "14cc2bec-4fc9-4485-9e1e-521c6e23126a",
   "metadata": {},
   "source": [
    "The new zone dictionary is a dictionary of dictionaries. The outer key corresponds is the station names and each element is a dictionary with two keys and elements descriebd:\n",
    "- **main_zones**: the set of zones a station is located in\n",
    "- **connected_zones**: the set of zones of the stations that the station is connected to\n",
    "\n",
    "The goal is to store the zone(s) each station along with all of the zones you can reach from that station in one step"
   ]
  },
  {
   "cell_type": "code",
   "execution_count": 7,
   "id": "0db7e0b1-404e-4ec1-821f-73508ace1683",
   "metadata": {},
   "outputs": [],
   "source": [
    "zone_dict_enh = {}\n",
    "\n",
    "#first iterate through adding primary and seconday zones of the starting stations listed in the dictionary\n",
    "for index, row in df.iterrows():\n",
    "    start_station = row[0]\n",
    "    end_station = row[1]\n",
    "    \n",
    "    act_cost = int(row[3])\n",
    "\n",
    "    zone1 = row[4]\n",
    "    zone2 = row[5]\n",
    "\n",
    "    #add start station to dictionary if not already there\n",
    "    if start_station not in zone_dict_enh:\n",
    "        zone_dict_enh[start_station] = {'main_zones': set(), 'connected_zones': set()}\n",
    "\n",
    "    #add end station to dic if not already there\n",
    "    if end_station not in zone_dict_enh:\n",
    "        zone_dict_enh[end_station] = {'main_zones': set(), 'connected_zones': set()}\n",
    "    \n",
    "\n",
    "    #zone1 is the main zone of the start station\n",
    "    zone_dict_enh[start_station]['main_zones'].add(zone1)\n",
    "\n",
    "    #the ending station is connected to the primary zone of the start station\n",
    "    zone_dict_enh[end_station]['connected_zones'].add(zone1)\n",
    "\n",
    "    #If the secondary station != 0 the start station is also located in the secondary zone \n",
    "    #The end station is therefore connected to the second zone\n",
    "    if zone2 != '0':\n",
    "        zone_dict_enh[start_station]['main_zones'].add(zone2)\n",
    "        zone_dict_enh[end_station]['connected_zones'].add(zone2)\n",
    "\n",
    "    "
   ]
  },
  {
   "cell_type": "markdown",
   "id": "c8cc53a2-e8c6-43ae-a829-44652a802e15",
   "metadata": {},
   "source": [
    "We now address the cases where no zone data is available for an ending station. These are the cases that justified the original construction of the zone dictionary provided in the assignment. so \n",
    "\n",
    "I use the suggested technique of using the primary and secondary stations to determine their zone \n",
    "- if the secondary zone is zero, use the primary zone of starting station. If the secondary zone is not equal to zero, use the secondary zone"
   ]
  },
  {
   "cell_type": "code",
   "execution_count": 8,
   "id": "8546e28e-0402-42fb-b02e-6400b8f87be2",
   "metadata": {},
   "outputs": [],
   "source": [
    "for index, row in df.iterrows():\n",
    "    start_station = row[0]\n",
    "    end_station = row[1]\n",
    "\n",
    "    zone1 = row[4]\n",
    "    zone2 = row[5]\n",
    "    #no zone location available for end station\n",
    "    if len(zone_dict_enh[end_station]['main_zones']) == 0:\n",
    "        #if secondary zone is not zero, use secondary zone\n",
    "        if zone2 != '0':\n",
    "            zone_dict_enh[end_station]['main_zones'].add(zone2)\n",
    "        #otherwise use primary zone\n",
    "        else:\n",
    "            zone_dict_enh[end_station]['main_zones'].add(zone1)\n",
    "        "
   ]
  },
  {
   "cell_type": "code",
   "execution_count": 9,
   "id": "732cfc43-0c79-4b5c-8878-eae02b4891ad",
   "metadata": {},
   "outputs": [],
   "source": [
    "for station in zone_dict_enh:\n",
    "    if len(zone_dict_enh[station]['main_zones']) < 1:\n",
    "        print('issue with { }'.format(end_station))"
   ]
  },
  {
   "cell_type": "markdown",
   "id": "4e0ea47f-1dbd-42aa-8238-a23e884e4081",
   "metadata": {},
   "source": [
    "Now that the set of main zones is complete, we iterate back through the dataframe again. The goal is to make sure that \n",
    "- All main zones of the starting station are in the connected zones of the ending station\n",
    "- All main zones of the end station are in the connected zones of the starting station"
   ]
  },
  {
   "cell_type": "code",
   "execution_count": 10,
   "id": "294c6455-3520-4759-b95f-fbc8645300eb",
   "metadata": {},
   "outputs": [],
   "source": [
    "for index, row in df.iterrows():\n",
    "    start_station = row[0]\n",
    "    end_station = row[1]\n",
    "\n",
    "    zone1 = row[4]\n",
    "    zone2 = row[5]\n",
    "\n",
    "    start_main = zone_dict_enh[start_station]['main_zones']\n",
    "    end_main = zone_dict_enh[end_station]['main_zones']\n",
    "    \n",
    "    zone_dict_enh[start_station]['connected_zones'].update(zone_dict_enh[end_station]['main_zones'])\n",
    "    zone_dict_enh[end_station]['connected_zones'].update(zone_dict_enh[start_station]['main_zones'])"
   ]
  },
  {
   "cell_type": "markdown",
   "id": "6769ea9e-1eba-4865-9ec4-cee7bf6bc602",
   "metadata": {},
   "source": [
    "Note how the record for the example below has changed"
   ]
  },
  {
   "cell_type": "code",
   "execution_count": 11,
   "id": "02b32f14-c8fb-41ae-85dc-0e2e2851de0e",
   "metadata": {},
   "outputs": [
    {
     "data": {
      "text/plain": [
       "{'main_zones': {'5', '6'}, 'connected_zones': {'4'}}"
      ]
     },
     "execution_count": 11,
     "metadata": {},
     "output_type": "execute_result"
    }
   ],
   "source": [
    "zone_dict_enh['Gants Hill']"
   ]
  },
  {
   "cell_type": "markdown",
   "id": "3c528884-3dea-4678-8eaf-9549fb46de83",
   "metadata": {},
   "source": [
    "The final step to prepare for the heuristic is the construction of a minimum path cost dictionary. The goal is to use our data to calculate the minimum path cost to travel from one zone to another\n",
    "\n",
    "We iterate through the data looking at each connection between stations. "
   ]
  },
  {
   "cell_type": "code",
   "execution_count": 12,
   "id": "353ce14f-c07b-4d19-b3d5-f068a3ab7ab1",
   "metadata": {},
   "outputs": [],
   "source": [
    "min_time_dict = {}\n",
    "for index, row in df.iterrows():\n",
    "    start_station = row[0]\n",
    "    end_station = row[1]\n",
    "    time = row[3]\n",
    "\n",
    "    start_zones = zone_dict_enh[start_station]['main_zones']\n",
    "    end_zones = zone_dict_enh[end_station]['main_zones']\n",
    "\n",
    "    #for each connection in our data, look at each combination of zones of the start station and zones of the end station\n",
    "    for s_zone in start_zones:\n",
    "        for e_zone in end_zones:\n",
    "            #Create or update record in min_time_dict\n",
    "            #where the key = 'starting zone - ending zone'\n",
    "            #value is equal to the minimum path cost between the starting zone and the ending zone\n",
    "            key1 = s_zone + '-' + e_zone\n",
    "            key2 = str(e_zone) + '-' + s_zone\n",
    "            if key1 not in min_time_dict:\n",
    "                min_time_dict[key1] = time\n",
    "            else:\n",
    "                if time < min_time_dict[key1]:\n",
    "                    min_time_dict[key1] = time\n",
    "            #Repeat for inverted keys\n",
    "            #key = 'ending zone - starting zone'\n",
    "            if key2 not in min_time_dict:\n",
    "                min_time_dict[key2] = time\n",
    "            else:\n",
    "                if time < min_time_dict[key2]:\n",
    "                    min_time_dict[key2] = time\n",
    "            "
   ]
  },
  {
   "cell_type": "markdown",
   "id": "467496b7-cc0b-4a63-879f-fb8fe09b35c3",
   "metadata": {},
   "source": [
    "The result is a dictionary of all the minimums of existing transitions within and between zones.\n",
    "\n",
    "For example, the output below is the minimum average time when traveling from a station in zone 5 to a station in zone 4"
   ]
  },
  {
   "cell_type": "code",
   "execution_count": 13,
   "id": "afb91f09-1445-47b3-9777-7deb3c9182a5",
   "metadata": {},
   "outputs": [
    {
     "name": "stdout",
     "output_type": "stream",
     "text": [
      "2\n"
     ]
    }
   ],
   "source": [
    "print(min_time_dict['5-4'])"
   ]
  },
  {
   "cell_type": "markdown",
   "id": "1e409ed5-5fc7-484c-9e56-874775496f59",
   "metadata": {
    "tags": []
   },
   "source": [
    "### Graph Construction"
   ]
  },
  {
   "cell_type": "markdown",
   "id": "ac309818-eb18-41db-88a3-0b91ca557fd3",
   "metadata": {},
   "source": [
    "I construct a graph representation of the tube system using the MultiDiGraph object in the NetworkX package. All code is based on the references provided in the networkX documentation.\n",
    "\n",
    "Each node represents a station and each edge represents tube connection between stations on a specific line. The weights of each edge are the average travel time between the two stations on that line. \n",
    "\n",
    "My reasoning for using the MultiDiGraph object was that it allows for multiple edges between nodes. There are cases in the dataset where multiple lines run between two stations. In a handful of cases these lines can have different weights associated with edges between them."
   ]
  },
  {
   "cell_type": "code",
   "execution_count": 14,
   "id": "de6b2ed2-1001-4db2-a0af-b50175552e1c",
   "metadata": {
    "tags": []
   },
   "outputs": [],
   "source": [
    "tube_graph_multi = nx.MultiDiGraph()\n",
    "\n",
    "for station in station_dict:\n",
    "    if not tube_graph_multi.has_node(station):\n",
    "        tube_graph_multi.add_node(station)\n",
    "    for neighbor in station_dict[station]: \n",
    "        neighbor_station = neighbor[0] \n",
    "        neighbor_weight = neighbor[1] \n",
    "        neighbor_line = neighbor[2]\n",
    "        if not tube_graph_multi.has_node(neighbor_station):\n",
    "            #print('adding neighbor {}'.format(neighbor_station))\n",
    "            tube_graph_multi.add_node(neighbor[0])\n",
    "        if not tube_graph_multi.has_edge(station, neighbor_station, key = neighbor_line):\n",
    "            tube_graph_multi.add_edge(station, neighbor_station, weight = neighbor_weight, key=neighbor_line)"
   ]
  },
  {
   "cell_type": "markdown",
   "id": "82b05288-3fea-4800-9c69-326333045eea",
   "metadata": {},
   "source": [
    "The example below is used as a justification for the use of a multi edge graph.\n",
    "\n",
    "The cell displays the different lines connecting paddington to edgware in the original dataframe. Note that the journey is one minute longer on hammersmith and city than the other three lines that connect the two"
   ]
  },
  {
   "cell_type": "code",
   "execution_count": 15,
   "id": "c1e90a1c-b3f7-4e92-b421-a42c875a74e9",
   "metadata": {},
   "outputs": [
    {
     "data": {
      "text/html": [
       "<div>\n",
       "<style scoped>\n",
       "    .dataframe tbody tr th:only-of-type {\n",
       "        vertical-align: middle;\n",
       "    }\n",
       "\n",
       "    .dataframe tbody tr th {\n",
       "        vertical-align: top;\n",
       "    }\n",
       "\n",
       "    .dataframe thead th {\n",
       "        text-align: right;\n",
       "    }\n",
       "</style>\n",
       "<table border=\"1\" class=\"dataframe\">\n",
       "  <thead>\n",
       "    <tr style=\"text-align: right;\">\n",
       "      <th></th>\n",
       "      <th>0</th>\n",
       "      <th>1</th>\n",
       "      <th>2</th>\n",
       "      <th>3</th>\n",
       "      <th>4</th>\n",
       "      <th>5</th>\n",
       "    </tr>\n",
       "  </thead>\n",
       "  <tbody>\n",
       "    <tr>\n",
       "      <th>13</th>\n",
       "      <td>Paddington</td>\n",
       "      <td>Edgware Road</td>\n",
       "      <td>Bakerloo</td>\n",
       "      <td>3</td>\n",
       "      <td>1</td>\n",
       "      <td>0</td>\n",
       "    </tr>\n",
       "    <tr>\n",
       "      <th>73</th>\n",
       "      <td>Paddington</td>\n",
       "      <td>Edgware Road</td>\n",
       "      <td>Circle</td>\n",
       "      <td>3</td>\n",
       "      <td>1</td>\n",
       "      <td>0</td>\n",
       "    </tr>\n",
       "    <tr>\n",
       "      <th>113</th>\n",
       "      <td>Edgware Road</td>\n",
       "      <td>Paddington</td>\n",
       "      <td>District</td>\n",
       "      <td>3</td>\n",
       "      <td>1</td>\n",
       "      <td>0</td>\n",
       "    </tr>\n",
       "    <tr>\n",
       "      <th>176</th>\n",
       "      <td>Paddington</td>\n",
       "      <td>Edgware Road</td>\n",
       "      <td>Hammersmith &amp; City</td>\n",
       "      <td>4</td>\n",
       "      <td>1</td>\n",
       "      <td>0</td>\n",
       "    </tr>\n",
       "  </tbody>\n",
       "</table>\n",
       "</div>"
      ],
      "text/plain": [
       "                0             1                   2  3  4  5\n",
       "13     Paddington  Edgware Road            Bakerloo  3  1  0\n",
       "73     Paddington  Edgware Road              Circle  3  1  0\n",
       "113  Edgware Road    Paddington            District  3  1  0\n",
       "176    Paddington  Edgware Road  Hammersmith & City  4  1  0"
      ]
     },
     "execution_count": 15,
     "metadata": {},
     "output_type": "execute_result"
    }
   ],
   "source": [
    "df[((df[0] == 'Paddington')| (df[0] == 'Edgware Road'))&((df[1] == 'Paddington')| (df[1] == 'Edgware Road'))]"
   ]
  },
  {
   "cell_type": "markdown",
   "id": "3ac1909c-8207-4a7e-873f-f83191629898",
   "metadata": {},
   "source": [
    "Given that these cases exist, single edged graphs wouldn't be capable of producing accurate time estimates based on the data that's provided. We would need to choose one of the two weights to represent the edges called out above when constructing the graph.\n",
    "\n",
    "As I will explain in my comments later, including all of the edges is not needed in the implementation of DFS, BFS, and UCS. In all cases, we could simply choose one of the fastest edges between two stations when constructing the graph to improve efficiency on execution. The different costs of the lines will become relevant once we update the cost function of UCS in 2.3 so I have decided to keep the graph structure consistent across the assignment"
   ]
  },
  {
   "cell_type": "markdown",
   "id": "f79d0dc1-92fe-4b3c-8b0f-6658124b7b9c",
   "metadata": {},
   "source": [
    "### Graph Plot"
   ]
  },
  {
   "cell_type": "markdown",
   "id": "09e49883-0473-4eac-a20c-798727fa08c5",
   "metadata": {},
   "source": [
    "Plot is largely unhelpful, but used as a general sanity check for the construction of the graph"
   ]
  },
  {
   "cell_type": "code",
   "execution_count": 16,
   "id": "d0a981ce-bcb3-4ef1-8b06-5390a026bd8a",
   "metadata": {
    "tags": []
   },
   "outputs": [
    {
     "data": {
      "image/png": "[encoded data removed]",
      "text/plain": [
       "<Figure size 640x480 with 1 Axes>"
      ]
     },
     "metadata": {},
     "output_type": "display_data"
    }
   ],
   "source": [
    "nx.draw(tube_graph_multi, with_labels=True, node_size=1, font_weight='bold', font_size = 6)"
   ]
  },
  {
   "cell_type": "markdown",
   "id": "d75213d3-6e87-4e75-a8be-64ff319247b0",
   "metadata": {},
   "source": [
    "## DFS, BFS, and UCS"
   ]
  },
  {
   "cell_type": "markdown",
   "id": "b2f441c9-605c-47ad-958c-ec7ff3557380",
   "metadata": {
    "tags": []
   },
   "source": [
    "### DFS"
   ]
  },
  {
   "cell_type": "markdown",
   "id": "45f1d972-e9e7-480f-9c4e-93fc46f0bba3",
   "metadata": {},
   "source": [
    "The original code originates from lab 2. I have commented to show understanding and modified it in two key ways to adapt to the problem\n",
    "\n",
    "- I have added edge weights to the state representation so that the final path cost can be computed and compared in following sections\n",
    "- I have added a section of code that handles multiple edges between the current node and the child\n",
    "\n",
    "I considered two approaches to the latter.\n",
    "- Add a record to the frontier for each edge that connects a parent to an unexplored child\n",
    "- Add only a single entry to frontier corresponding to one of the edges that connects a parent to an unexplored child\n",
    "\n",
    "The former method results in multiple entries in the frontier for every node that has multiple edges connecting it to its parent. The path including the edge that's explored last would be the first opened from the set. Also, the exploration check would consider not only the child node, but the particular sequence of edges taken to reach the child. \n",
    "\n",
    "One could argue that this is a better representation for DFS of a multi-edge graph, but this would decrease the speed of the algorithm as it now visits some stations multiple times.\n",
    "\n",
    "Considering the goal of this implementation is to produce a path from a initial state to the goal state, I decided to go with the latter. Whenever there are multiple edges connecting a parent to a child, I iterate through the edges and choose one of the lines with the lowest edge weight. I should note that the speed of the algorithm could be improved by selecting a random edge without iterating through them. \n",
    "\n",
    "The argument for this approach is that it produces results close to identical to DFS performed on a single edge graph where each edge between two nodes is one of the lines that minimizes cost between the two stations. Equivalence between my implementation and the single edge graph approach assumes the same method for selecting edges that minimize cost. \n",
    "\n",
    "Overall, I argue that this is context specific optimization that maintains the rules of a DFS algorithm while keeping the structure of the graph consistent across the assignment."
   ]
  },
  {
   "cell_type": "markdown",
   "id": "e228a416-8e0d-4783-8f6f-5755c9290f3b",
   "metadata": {},
   "source": [
    "#### State Definition"
   ]
  },
  {
   "cell_type": "markdown",
   "id": "d7178511-8628-41ec-80dc-613fe9b60bf3",
   "metadata": {},
   "source": [
    "Each state is represented by:\n",
    "$$state_x = (n_i, s_{x-1}, l_q, c_r )$$\n",
    "\n",
    "Where,\n",
    "- $n_i$ is the current station (current node)\n",
    "- $s_{x-1}$ is the preceding state on the current path\n",
    "- $l_q$ is the line taken to get to station $n_i$ from $n_j$ in $s_{x-1}$ (preceeding station on current path)\n",
    "- $c_r$ is the cost to get to the $n_i$ from $n_j$ on the line $l_q$\n",
    "    - (cost is the average time to get from parent station to current station)\n"
   ]
  },
  {
   "cell_type": "markdown",
   "id": "ce04b6f5-9922-4d94-906d-c1402a155eb1",
   "metadata": {},
   "source": [
    "#### Implementation"
   ]
  },
  {
   "cell_type": "code",
   "execution_count": 17,
   "id": "a3abf0d7-2bd4-4977-9a88-4969578060b4",
   "metadata": {
    "tags": []
   },
   "outputs": [],
   "source": [
    "#constructs path for both DFS and BFS outputs\n",
    "#returns a list with the path from the origin to the destination \n",
    "#and the summation of the edge weights along the path (total time in solution)\n",
    "#if return_lines=True, then returns a list of tuples representing the path taken in the format: (station, line_taken_to_station)\n",
    "#if return_lines=False, then returns a list of stations in the format: \n",
    "def construct_path(node, return_lines=False):\n",
    "    path_from_root = []\n",
    "    total_time = 0\n",
    "    #The solution from both the bfs and dfs function return a dictionary of the format\n",
    "    #{label: 'example_node', weight: weight_from_parent, line: line_from_parent, parent: parent_node}\n",
    "    #where parent_node is a dictionary of the same format of the node that preceeded example_node\n",
    "    while node['parent']:\n",
    "        if return_lines:\n",
    "            path_from_root.insert(0,(node['label'],node['line']))\n",
    "        else:\n",
    "            path_from_root.insert(0,node['label'])\n",
    "        total_time += node['weight_from_parent']\n",
    "        node = node['parent']\n",
    "    if return_lines:\n",
    "        path_from_root.insert(0,(node['label'],''))\n",
    "    else:\n",
    "        path_from_root.insert(0,node['label'])\n",
    "    return path_from_root, total_time"
   ]
  },
  {
   "cell_type": "code",
   "execution_count": 18,
   "id": "30cf27f7-6842-4e63-aedc-0295065b035f",
   "metadata": {
    "tags": []
   },
   "outputs": [],
   "source": [
    "#returns a dictionary with path and weight details and the count of the total number of nodes visited\n",
    "\n",
    "def dfs(graph, initial, goal, print_exploration_cost=False, reverse=False):\n",
    "    #initialize the frontier with the origin\n",
    "    #For each node in the frontier, we track the name of the node is avg time from the parent to the node, \n",
    "    #and the parent state\n",
    "    #each of these dictionaries represents a State\n",
    "    \n",
    "    frontier = [{'label':initial, 'weight_from_parent':0, 'line':None, 'parent':None}]\n",
    "    explored = {initial}\n",
    "    number_of_explored_nodes = 0\n",
    "    \n",
    "    #While there are nodes that have not been explored\n",
    "    while frontier:\n",
    "        #We start by popping the last node in the frontier (LIFO, most recently added)\n",
    "        current_node = frontier.pop()\n",
    "        current_node_label = current_node['label']\n",
    "        #mark that we have visited the current node\n",
    "        explored.add(current_node_label)\n",
    "        number_of_explored_nodes +=1\n",
    "        \n",
    "        #check to see if the current node satisfies objective\n",
    "        #Goal test could be performed when checking children to improve speed\n",
    "        #I kept it in this section of the script for cleanliness\n",
    "        if current_node_label == goal:\n",
    "            if print_exploration_cost:\n",
    "                print('Nodes visited {}'.format(number_of_explored_nodes))\n",
    "            return current_node, number_of_explored_nodes\n",
    "    \n",
    "        #reverse parameter is maintained from prior lab for Q2.2\n",
    "        if reverse:\n",
    "            neighbors = reversed(list(graph.neighbors(current_node_label)))\n",
    "        else:\n",
    "            neighbors = list(graph.neighbors(current_node_label))\n",
    "        \n",
    "        #we check all children of the current node\n",
    "        #if they haven't been explored yet, we add a new node to the end of the frontier for each child.\n",
    "        #note that the parent information contains the weights and parents for all prior steps in the path\n",
    "        #this is converted into a tuple with the total weight and a list of the path from start to end in the\n",
    "        #construct_path function\n",
    "        for child in neighbors:\n",
    "            if child not in explored:\n",
    "                #To avoid creating a record on the frontier for each line from the current node to the child I do the following:\n",
    "                #weight is irrelevant to the way DFS sorts nodes so I will only add one record to frontier corresponding\n",
    "                #to a line that minimizes the cost from the current node to the child\n",
    "                #this removes the case where the algorithm revisits the same node for every edge that connects its parent to it\n",
    "                lines = graph.get_edge_data(current_node_label, child)\n",
    "                edge_costs = []\n",
    "                for line in lines:\n",
    "                    weight = lines[line]['weight']\n",
    "                    edge_costs.append((weight, line))\n",
    "                fastest_line =  min(edge_costs)   \n",
    "                frontier.append({'label':child, 'weight_from_parent':fastest_line[0] ,'line':fastest_line[1], 'parent':current_node})\n",
    "    return None, None"
   ]
  },
  {
   "cell_type": "markdown",
   "id": "c06749c9-13b9-4593-ad19-7f0f2eb67c97",
   "metadata": {},
   "source": [
    "#### DFS summary function\n",
    "\n",
    "Input: start location, end location, reverse = Bool, display_line = Bool\n",
    "\n",
    "The first three inputs are self explantory, return_lines=True provides the lines taken from one station to another in the solution output.\n",
    "\n",
    "If display_lines = False\n",
    "- output format: [intial station, station 2, ..., goal station]\n",
    "\n",
    "If display_lines = True\n",
    "- output format: [(intial station,''), (station 1,line_1), ..., (goal station,line_n)]\n",
    "- Where line_i is the line taken from station i-1 to station i"
   ]
  },
  {
   "cell_type": "code",
   "execution_count": 19,
   "id": "37dade58-06e9-4637-b080-ad76eb9160a1",
   "metadata": {
    "tags": []
   },
   "outputs": [],
   "source": [
    "def run_dfs(start, end, reverse=False, return_lines=False):\n",
    "    dfs_path, node_count = dfs(tube_graph_multi, start, end, False, reverse)\n",
    "    solution, total_time_dfs = construct_path(dfs_path, return_lines)\n",
    "    print('Path from start to end with station and line taken')\n",
    "    print(solution)\n",
    "    print('Average Time for Route: {}'.format(total_time_dfs))\n",
    "    print('Number of Nodes Visited: {}'.format(node_count))\n",
    "    return solution"
   ]
  },
  {
   "cell_type": "code",
   "execution_count": 20,
   "id": "de1fbe10-a722-4b35-b62d-4a85ae41f929",
   "metadata": {
    "tags": []
   },
   "outputs": [
    {
     "name": "stdout",
     "output_type": "stream",
     "text": [
      "Path from start to end with station and line taken\n",
      "['Euston', \"King's Cross St. Pancras\", 'Russell Square', 'Holborn', 'Covent Garden', 'Leicester Square', 'Piccadilly Circus', 'Green Park', 'Victoria']\n",
      "Average Time for Route: 13\n",
      "Number of Nodes Visited: 26\n"
     ]
    }
   ],
   "source": [
    "solution = run_dfs('Euston','Victoria', return_lines=False)"
   ]
  },
  {
   "cell_type": "markdown",
   "id": "8e3264d1-e482-4786-a7b8-87542cd2ed5c",
   "metadata": {},
   "source": [
    "### BFS"
   ]
  },
  {
   "cell_type": "markdown",
   "id": "9a8cd135-fa20-4605-8771-db9657ce05d5",
   "metadata": {},
   "source": [
    "Again this is based off of code from lab 2. I have commented and modified it in a similar way to the past example.\n",
    "\n",
    "To avoid being overly verbose, BFS was modified in the same way as DFS was modified. Edge weights from parent to a node are stored in the state and only one of the fastest edges between two nodes is considered when adding to the frontier.\n",
    "\n",
    "The justification for using this method is the same as it was in DFS. This approach maintains consistency of the graph structure across the assignment while removing the need to explore the same nodes multiple times. In this case, my implementation mimics BFS performed on a single edge graph where the edge selected is one of the edges that minimizes the cost"
   ]
  },
  {
   "cell_type": "markdown",
   "id": "8462d3e2-4cb9-40c4-8feb-1aee88be7e9c",
   "metadata": {},
   "source": [
    "#### State Definition"
   ]
  },
  {
   "cell_type": "markdown",
   "id": "5021fb98-5199-4b37-a27c-d2763c6991cc",
   "metadata": {},
   "source": [
    "The State definition is the same as it was in DFS"
   ]
  },
  {
   "cell_type": "markdown",
   "id": "635eff83-2e2f-4d1d-940c-be313951ce3c",
   "metadata": {},
   "source": [
    "#### Implementation"
   ]
  },
  {
   "cell_type": "code",
   "execution_count": 21,
   "id": "e9f48610-462b-4972-a09c-73e72c9230e3",
   "metadata": {
    "tags": []
   },
   "outputs": [],
   "source": [
    "def bfs(graph, initial, goal, print_exploration_cost=False, reverse=False):\n",
    "\n",
    "    #Similar to DFS, we use the same format to represent nodes on the frontier\n",
    "    #We use the construct_path function to create the solution list and compute total cost\n",
    "    number_of_explored_nodes = 0\n",
    "    frontier = [{'label':initial,'weight_from_parent': 0, 'line':None, 'parent':None}]\n",
    "    frontier_labels = [initial]\n",
    "    explored = {initial}\n",
    "\n",
    "    while frontier:\n",
    "        #With BFS we pop the first element of our frontier so that we search first element that was added\n",
    "        #in our current list (FIFO)\n",
    "        current_node = frontier.pop(0)\n",
    "        current_node_label = current_node['label']\n",
    "        frontier_labels.remove(current_node_label)\n",
    "        weight = current_node['weight_from_parent']\n",
    "        line = current_node['line']\n",
    "        explored.add(current_node_label)\n",
    "        number_of_explored_nodes += 1\n",
    "        \n",
    "        #after incrementing our node count, perform goal check\n",
    "        #like DFS, Goal check could be performed while checking children \n",
    "        if current_node_label == goal:\n",
    "            if print_exploration_cost:\n",
    "                print('bfs graph search explored {} node'.format(number_of_explored_nodes))\n",
    "            return {'label':current_node_label,'weight_from_parent': weight, 'line':line,  'parent':current_node['parent']}, number_of_explored_nodes\n",
    "        \n",
    "        if reverse:\n",
    "            neighbors = reversed(list(graph.neighbors(current_node_label)))\n",
    "        else:\n",
    "            neighbors = list(graph.neighbors(current_node_label))\n",
    "        \n",
    "        for child in neighbors:\n",
    "            if child not in explored and child not in frontier_labels:\n",
    "                #like dfs, path cost is irrelevant to the solution that is found\n",
    "                #I perform a similar solution to DFS to avoid the case where a node on the frontier gets visited multiple times\n",
    "                #due to multiple edges connecting it to its parent\n",
    "                #take the minimum weighted line and append that path to the frontier\n",
    "                lines = graph.get_edge_data(current_node_label, child)\n",
    "                edge_costs = []\n",
    "                for line in lines:\n",
    "                    weight = lines[line]['weight']\n",
    "                    edge_costs.append((weight, line))\n",
    "                fastest_line =  min(edge_costs) \n",
    "                frontier.append({'label':child, 'weight_from_parent': fastest_line[0], 'line':fastest_line[1] ,'parent':current_node})\n",
    "                frontier_labels.append(child)\n",
    "                \n",
    "    return None, None"
   ]
  },
  {
   "cell_type": "markdown",
   "id": "4d8a979d-b170-46a6-a8b0-0f717565746b",
   "metadata": {},
   "source": [
    "#### BFS summary function\n",
    "\n",
    "Input: start location, end location, reverse = Bool, return_line = Bool\n",
    "\n",
    "This function is the same as run_dfs(), but bfs is ran instead"
   ]
  },
  {
   "cell_type": "code",
   "execution_count": 22,
   "id": "78936731-d871-4277-921c-8691fbd326fc",
   "metadata": {
    "tags": []
   },
   "outputs": [],
   "source": [
    "def run_bfs(start, end, reverse=False, return_line=False):\n",
    "    bfs_path, node_count = bfs(tube_graph_multi, start, end, False, reverse)\n",
    "    solution, total_time_bfs = construct_path(bfs_path, return_line)\n",
    "    print('Path from start to end with station and line taken')\n",
    "    print(solution)\n",
    "    print('Average Time for Route: {}'.format(total_time_bfs))\n",
    "    print('Number of Nodes Visited: {}'.format(node_count))\n",
    "    return solution"
   ]
  },
  {
   "cell_type": "code",
   "execution_count": 23,
   "id": "9a49ed35-b3ce-4d97-a36e-263f7bb808a6",
   "metadata": {
    "tags": []
   },
   "outputs": [
    {
     "name": "stdout",
     "output_type": "stream",
     "text": [
      "Path from start to end with station and line taken\n",
      "['Euston', 'Warren Street', 'Oxford Circus', 'Green Park', 'Victoria']\n",
      "Average Time for Route: 7\n",
      "Number of Nodes Visited: 35\n"
     ]
    }
   ],
   "source": [
    "solution = run_bfs('Euston', 'Victoria', return_line=False)"
   ]
  },
  {
   "cell_type": "markdown",
   "id": "d5dc3f4d-fc40-4c87-95f4-d211043c7806",
   "metadata": {},
   "source": [
    "### UCS"
   ]
  },
  {
   "cell_type": "markdown",
   "id": "0cb0b3a0-241c-4b3f-8208-9decbf2ac806",
   "metadata": {},
   "source": [
    "BFS is the special case of UCS where the weight of each edge is 1. I defined the cost function as the cumulative sum of the average time associated with each step on the graph. \n",
    "\n",
    "In this case I use a priority queue for the frontier. UCS expands nodes based on the cost function so I expect that the reverse parameter would only have an effect on solution if there are two potential paths with the same cost. Nodes will be expanded in order of their priority regardless of their arrangement in relation to parent. In this case ordering depends on the order that paths with equal cost were inserted into the queue.\n",
    "\n",
    "I applied a similar technique to optimize the algorithm as in BFS and DFS. If there are two or more lines connecting a station to an unexplored node, we would need to add multiple records to the frontier for each edge connecting the two. Considering that UCS orders the frontier based on the cumulative weight of a path to a node, the algorithm will always prioritize solutions that take faster lines. There is no penalty for switching stations at this stage, so once again, an edge (line) that minimizes the cost between two stations is selected when this case is presented. One record is added to the frontier representing the path to the child that takes this line."
   ]
  },
  {
   "cell_type": "markdown",
   "id": "6fa2cbf5-b265-4779-b557-e74939fbf77a",
   "metadata": {},
   "source": [
    "#### State Definition"
   ]
  },
  {
   "cell_type": "markdown",
   "id": "4aa9d05a-4b89-46cb-8935-0c2b9db973e3",
   "metadata": {},
   "source": [
    "The state definition for this implementation of contains the similar information to BFS and DFS, however the data is formatted differently and individual path weights are not stored. I will rewrite the state representation below to provide clarity.\n",
    "\n",
    "$$state_x = (c_x, i_q, p_x)$$\n",
    "\n",
    "Where,\n",
    "- $p_x$ represents the path with elements\n",
    "    - Each element $sl_i$ is a tuple in the format $(s_i,l_i)$ where\n",
    "        - $s_i$ is the ith station on the path\n",
    "        - $l_i$ is the line corresponding to the edge that connects $s_{i-1}$ and $s_{i}$\n",
    "    - The station in the first element of $p_x$ is the root node\n",
    "    - the station in the last element of $p_x$ is the current node\n",
    "- $c_x$ is the total sum of the cost (average time) in the path described by $p_x$\n",
    "- $i_q$ is a unique number to the state. If two paths with equal cost are considered, the one with the lower i will be selected first\n",
    "\n",
    "This state definition differs from the prior state definition in that it doesn't track the individual cost associated with the movement from a station $s_i$ to $s_i+1$. Instead, it only includes the cumulative cost. \n",
    "\n",
    "Although formatted differently, the state definition of BFS and DFS contains the information needed to produce the path to the current node as well as the cumulative weight of the path. All details necessary to produce this are defined in parent states.\n",
    "\n",
    "I justify using a different format for the data in this algorithm because the updated UCS cost function in 2.3 will require each state to contain an assembled path to compute the cost."
   ]
  },
  {
   "cell_type": "markdown",
   "id": "325193cc-9874-462b-946c-3e835a807754",
   "metadata": {},
   "source": [
    "#### Implementation"
   ]
  },
  {
   "cell_type": "code",
   "execution_count": 24,
   "id": "ee710435-0e40-469c-8020-d4ce0af5b532",
   "metadata": {},
   "outputs": [],
   "source": [
    "def ucs(graph, initial, goal, print_exploration_cost=False, reverse=False):\n",
    "\n",
    "    number_of_explored_nodes = 0\n",
    "    #with UCS we use a priority queue based on the cumulative weight of a path to a given node\n",
    "    #queue.priorityqueue doesn't have built in methods to update paths/path costs if a better route a child is found\n",
    "    #functionally, adding multiple paths to the same child wouldn't effect optimality because \n",
    "    #the better path will always be explored first, however updating items in the priority queue can decrease the number\n",
    "    #of nodes that are explored. if you find two paths to a node, the better path will get explored first, but the old path\n",
    "    #will remain in the queue. Depending on the case, the worse path may still get opened\n",
    "    #I use a workaround involving a separate dictionary that keeps a reference to the item inserted\n",
    "    #into the priority queue to achieve this effect\n",
    "    \n",
    "    frontier = PriorityQueue()\n",
    "    frontier_records = {}\n",
    "    #Frontier is filled with lists\n",
    "    #the first element is the cost of reaching a given node in a particular path from the start station\n",
    "    #the second element is a unique number assigned to a particular path. This is used to preserve a order\n",
    "    #when states have equal costs\n",
    "    #The third element is the path where The first term is the weight of the path to the current node, \n",
    "    #the second term is the path each element of the path is a tuple with the location, and the line taken to get there\n",
    "    #ex:(2, 123, [('initial station', '')('station name', 'line name')])\n",
    "    \n",
    "    #frontier labels is a  dictionary that stores references to the items inserted in the priority queue\n",
    "    #the key is the name of the station and the value is the list\n",
    "    #lists are used in both the priority queue and the dictionary because they are mutable\n",
    "    #if the algorithm finds a better path to a node, the old cost is updated to an arbitrarily large number \n",
    "    #and a new cost and list is inserted\n",
    "    #More details on this later, but the data structures used to implement priority queues\n",
    "    #aren't designed to handle changing values once they have been inserted hence some of the workarounds\n",
    "    #the use of priority queue was based on the UCS pseudocode provided in the Russell/Norvig Text\n",
    "    \n",
    "    initial_record = [0, 0, [(initial, '')]]\n",
    "    frontier_records[initial] = initial_record\n",
    "    \n",
    "    frontier.put(initial_record)\n",
    "    explored = {initial}\n",
    "    #used to generate unique integer indicating order that state was reached\n",
    "    iterations = 0 \n",
    "    \n",
    "    #used to mark queue entries for removal\n",
    "    remove_num = 10000000000\n",
    "    while frontier:\n",
    "        \n",
    "        frontier_list = frontier.get()\n",
    "        current_path = frontier_list[2].copy()\n",
    "        #index is to grab the station name from most recent item in the path\n",
    "        current_node = current_path[-1][0]\n",
    "        current_path_weight = frontier_list[0]\n",
    "        #we remove the reference record from the frontier and mark the node as explored\n",
    "        _ = frontier_records.pop(current_node)\n",
    "        explored.add(current_node)\n",
    "        number_of_explored_nodes += 1\n",
    "        \n",
    "        #unlike dfs and bfs, goal test for ucs must be done after the nodes have been added to priority queue\n",
    "        #in BFS and DFS we can halt the search when we reach the goal state in the child\n",
    "        #for UCS to be optimal, we need to to add the children to the priority queue based on the \n",
    "        #cumulative weight in the path\n",
    "        #even if the goal is found when searching children, its possible the final step to the goal is of high enough weight \n",
    "        #that there is a solution with lower cost\n",
    "        if current_node == goal:\n",
    "            if print_exploration_cost:\n",
    "                print('UCS graph search explored {} nodes'.format(number_of_explored_nodes))\n",
    "            return current_path, number_of_explored_nodes, current_path_weight\n",
    "        \n",
    "        if reverse:\n",
    "            neighbors = reversed(list(graph.neighbors(current_node)))\n",
    "        else:\n",
    "            neighbors = list(graph.neighbors(current_node))\n",
    "            \n",
    "        for child in neighbors:\n",
    "            #while path cost is relevant to UCS, in this case we will always prefer an edge with a lower weight than the other edge\n",
    "            #like bfs and dfs, iterate through edges connecting current node to child\n",
    "            #we select the line with the lowest weight and use that edge to continue the path\n",
    "\n",
    "            #This step is perfomed before the check because the full cost/path is prior to checking the frontier\n",
    "            iterations += 1\n",
    "            lines = graph.get_edge_data(current_node, child)\n",
    "            edge_costs = []\n",
    "            for line in lines:\n",
    "                weight = lines[line]['weight']\n",
    "                edge_costs.append((weight, line))\n",
    "            fastest_line =  min(edge_costs)\n",
    "            path_to_child = current_path.copy()\n",
    "            path_to_child.append((child, fastest_line[1]))\n",
    "            #Cost function: total cost to current point + the cost to the child\n",
    "            path_weight_to_child = current_path_weight + fastest_line[0]\n",
    "            child_record = [path_weight_to_child, iterations,  path_to_child]\n",
    "\n",
    "            #if child has not been explored or added to the frontier\n",
    "            if child not in explored and child not in frontier_records.keys():\n",
    "                frontier_records[child] = child_record\n",
    "                frontier.put(child_record)\n",
    "                \n",
    "                \n",
    "            #child is in frontier and the path cost is worse than what was found\n",
    "            elif child in frontier_records.keys() and frontier_records[child][0] > path_weight_to_child:\n",
    "                \n",
    "                #arbitrarily large number used to move old record to back of queue. \n",
    "                frontier_records[child][0] = remove_num\n",
    "                \n",
    "                #dictionary is updated with new reference to queue item\n",
    "                _ = frontier_records.pop(child) \n",
    "                frontier_records[child] = child_record\n",
    "\n",
    "                #better path to child is inserted into queue with updated cost\n",
    "                frontier.put(child_record)\n",
    "\n",
    "                #priority queues are often built using a binary trees, heaps, or linked lists \n",
    "                #when the reference value is updated, the pointers within the structure stay the same. \n",
    "                #We can get around this by reconstucting the queue to force it to resort\n",
    "\n",
    "                #its questionable whether the time saved in not exploring the same nodes is worth \n",
    "                #the time added by performing this step. I am unsure why russell/norvig specified updating \n",
    "                #a priority queue in the UCS psuedocode\n",
    "\n",
    "                f_copy =PriorityQueue()\n",
    "                while not frontier.empty():\n",
    "                    record = frontier.get()\n",
    "                    if record[0] != remove_num:\n",
    "                        f_copy.put(record)\n",
    "                frontier = f_copy\n",
    "\n",
    "    return None, None, None "
   ]
  },
  {
   "cell_type": "markdown",
   "id": "ab406274-46ca-41bf-9ba8-4bdac3d0e6d4",
   "metadata": {},
   "source": [
    "#### UCS summary function\n",
    "\n",
    "Input: start location, end location, reverse = Bool, return_line = Bool\n",
    "\n",
    "This function is the same as run_dfs() and run_bfs(), but UCS is ran instead"
   ]
  },
  {
   "cell_type": "code",
   "execution_count": 25,
   "id": "e3f2e393-6f24-4278-9028-036f81adde0c",
   "metadata": {
    "tags": []
   },
   "outputs": [],
   "source": [
    "def run_ucs(start, end, reverse=False ,return_line=False ):\n",
    "    solution, node_count, total_time_ucs = ucs(tube_graph_multi, start, end, False, reverse)\n",
    "\n",
    "    #default output solution is list of tuples with station and line\n",
    "    #converts output to just station\n",
    "    if not return_line:\n",
    "        solution = [i[0] for i in solution]\n",
    "    \n",
    "    print('Path from start to end with station and line taken')\n",
    "    print(solution)\n",
    "    print('Average Time for Route: {}'.format(total_time_ucs))\n",
    "    print('Number of Nodes Visited: {}'.format(node_count))\n",
    "    return solution"
   ]
  },
  {
   "cell_type": "code",
   "execution_count": 26,
   "id": "432042c0-bfb0-4c68-9261-862017992ee3",
   "metadata": {
    "tags": []
   },
   "outputs": [
    {
     "name": "stdout",
     "output_type": "stream",
     "text": [
      "Path from start to end with station and line taken\n",
      "[('Canada Water', ''), ('Rotherhithe', 'East London'), ('Wapping', 'East London'), ('Shadwell', 'East London'), ('Whitechapel', 'East London'), ('Stepney Green', 'District'), ('Mile End', 'District'), ('Stratford', 'Central')]\n",
      "Average Time for Route: 14\n",
      "Number of Nodes Visited: 52\n"
     ]
    }
   ],
   "source": [
    "solution_ucs = run_ucs('Canada Water','Stratford',return_line=True)"
   ]
  },
  {
   "cell_type": "markdown",
   "id": "da436bea-b82e-4926-a177-bf47cd141d39",
   "metadata": {},
   "source": [
    "## Performance analysis"
   ]
  },
  {
   "cell_type": "markdown",
   "id": "384f5e21-2c12-4285-a402-2430c565a636",
   "metadata": {},
   "source": [
    "### Setup"
   ]
  },
  {
   "cell_type": "markdown",
   "id": "841e77d8-c88a-4aba-ad0d-f751ce79c040",
   "metadata": {},
   "source": [
    "To begin I generate a dataframe that has a wide number of routes. We can then use this data to get an idea of the average number of nodes and the average expectated tube time for the solutions returned by the algorithms.\n",
    "\n",
    "I will use a combination of the examples provided as well as a few start and end locations that are randomly sampled\n"
   ]
  },
  {
   "cell_type": "markdown",
   "id": "c0dc9974-9344-49ea-9c99-4fb8a33e4da1",
   "metadata": {},
   "source": [
    "The method below was used to create the Examples. I've hardcoded the output in the next cell to avoid issues with replication"
   ]
  },
  {
   "cell_type": "code",
   "execution_count": 25,
   "id": "a9f09da5-f0fa-4f74-96fa-794c847c1867",
   "metadata": {
    "tags": []
   },
   "outputs": [],
   "source": [
    "routes = ({1: ('Euston','Victoria'), 2: ('Canada Water','Stratford' ), 3: ('New Cross Gate','Stepney Green'),\n",
    "           4: ('Ealing Broadway','South Kensington' ), 5:('Baker Street','Wembley Park' )})\n",
    "\n",
    "for i in range(0,95):\n",
    "    random.seed(i)\n",
    "    start = random.sample(list(station_dict),1)[0]\n",
    "    end = random.sample(list(station_dict),1)[0]\n",
    "    routes[i+6] = (start,end)"
   ]
  },
  {
   "cell_type": "code",
   "execution_count": 26,
   "id": "98581132-b0ec-4b5b-a0ec-b72543a2eaa6",
   "metadata": {
    "jupyter": {
     "source_hidden": true
    },
    "tags": []
   },
   "outputs": [],
   "source": [
    "routes = ({1: ('Euston', 'Victoria'), 2: ('Canada Water', 'Stratford'), 3: ('New Cross Gate', 'Stepney Green')\n",
    "           , 4: ('Ealing Broadway', 'South Kensington'), 5: ('Baker Street', 'Wembley Park')\n",
    "           , 6: ('Archway', 'Kennington'), 7: ('Buckhurst Hill', 'North Acton'), 8: ('Northolt', 'Chancery Lane')\n",
    "           , 9: ('Plaistow', 'Snaresbrook'), 10: ('West Ham', 'West Hampstead'), 11: ('Hornchurch', 'Watford')\n",
    "           , 12: ('Lancaster Gate', 'Boston Manor'), 13: ('Canning Town', 'Barbican')\n",
    "           , 14: ('Whitechapel', 'Mill Hill East'), 15: ('Manor House', 'High Barnet'), 16: ('Baker Street', 'Oval')\n",
    "           , 17: ('Oakwood', 'Finsbury Park'), 18: ('Russell Square', 'Canada Water'), 19: ('Upminster', 'Queensbury')\n",
    "           , 20: ('Leytonstone', 'Vauxhall'), 21: ('Olympia', 'Stonebridge Park'), 22: ('Chorleywood', 'Holloway Road')\n",
    "           , 23: ('Highbury & Islington', 'Warren Street'), 24: ('Bayswater', 'Grange Hill')\n",
    "           , 25: ('Waterloo', 'Seven Sisters'), 26: ('Barbican', 'Shoreditch'), 27: ('Temple', 'Leicester Square')\n",
    "           , 28: ('Theydon Bois', 'Barking'), 29: ('Queensbury', 'Marble Arch'), 30: ('Highgate', 'Ealing Common')\n",
    "           , 31: ('Woodside Park', 'Willesden Junction'), 32: ('Fulham Broadway', \"Earls' Court\")\n",
    "           , 33: ('Knightsbridge', 'Goldhawk Road'), 34: ('Gants Hill', 'Snaresbrook')\n",
    "           , 35: ('Holland Park', 'Ruislip Manor'), 36: ('Queensbury', 'Marylebone'), 37: ('Harlesden', 'Holloway Road')\n",
    "           , 38: ('Notting Hill Gate', 'Gunnersbury'), 39: ('Westminster', 'Bromley-by-Bow'), 40: ('Brixton', 'Croxley')\n",
    "           , 41: ('Northwood Hills', 'South Woodford'), 42: ('Harrow-on-the-Hill', 'Greenford')\n",
    "           , 43: ('Chancery Lane', 'Walthamstow Central'), 44: ('Kennington', 'Oval'), 45: ('Richmond', 'Upminster')\n",
    "           , 46: ('Bounds Green', 'Pimlico'), 47: ('East Finchley', 'Pinner'), 48: ('Gants Hill', 'Warwick Avenue')\n",
    "           , 49: ('Piccadilly Circus', 'Stanmore'), 50: ('Chalk Farm', 'Seven Sisters')\n",
    "           , 51: ('New Cross Gate', 'Goodge Street'), 52: ('Notting Hill Gate', 'Hendon Central')\n",
    "           , 53: ('Hillingdon', 'North Acton'), 54: ('London Bridge', 'South Woodford'), 55: ('West Acton', 'Eastcote')\n",
    "           , 56: ('Heathrow Terminal 3', 'Rotherhithe'), 57: ('Barking', 'North Ealing')\n",
    "           , 58: ('Canada Water', 'South Ruislip'), 59: ('Stamford Brook', 'Arnos Grove'), 60: ('Debden', 'Balham')\n",
    "           , 61: ('Chancery Lane', 'East Putney'), 62: ('Stonebridge Park', 'Russell Square')\n",
    "           , 63: ('Embankment', 'Amersham'), 64: ('East Putney', \"Earls' Court\"), 65: ('West Kensington', 'Bond Street')\n",
    "           , 66: ('Swiss Cottage', 'Royal Oak'), 67: ('Hatton Cross', 'Ealing Common'), 68: ('Sloane Square', 'Ealing Broadway')\n",
    "           , 69: ('Colliers Wood', 'Colliers Wood'), 70: ('Covent Garden', 'Chigwell'), 71: ('Warren Street', 'Canons Park')\n",
    "           , 72: ('White City', 'Green Park'), 73: ('Holland Park', 'Barkingside')\n",
    "           , 74: ('Finsbury Park', 'Heathrow Terminals 1-2-3'), 75: ('Piccadilly Circus', 'Liverpool Street')\n",
    "           , 76: ('Fairlop', 'Wembley Park'), 77: ('Canning Town', 'Sudbury Town'), 78: (\"Shepherd's Bush\", 'Chiswick Park')\n",
    "           , 79: ('Ladbroke Grove', 'Grange Hill'), 80: ('Walthamstow Central', 'Newbury Park')\n",
    "           , 81: ('Cockfosters', 'Clapham South'), 82: ('Mill Hill East', 'Manor House'), 83: ('Elm Park', 'Preston Road')\n",
    "           , 84: ('Turnham Green', 'Liverpool Street'), 85: ('Euston Square', 'Balham'), 86: ('New Cross Gate', 'Edgware')\n",
    "           , 87: ('Alperton', 'Southgate'), 88: ('Euston Square', 'Hounslow East'), 89: ('Heathrow Terminal 3', 'Wood Green')\n",
    "           , 90: ('Royal Oak', 'Piccadilly Circus'), 91: ('Parsons Green', 'Leytonstone'), 92: ('Marylebone', 'Bermondsey')\n",
    "           , 93: ('Euston Square', 'Turnham Green'), 94: ('Colindale', 'Wimbledon'), 95: ('Lancaster Gate', 'Upminster')\n",
    "           , 96: ('West Brompton', \"St. Paul's\"), 97: ('Marble Arch', 'Sloane Square'), 98: ('Kennington', 'Blackhorse Road')\n",
    "           , 99: ('Hatton Cross', 'Hillingdon'), 100: ('Ealing Common', 'Chigwell')})"
   ]
  },
  {
   "cell_type": "markdown",
   "id": "f2bb402a-5585-43df-833c-2ce6d2e70ed0",
   "metadata": {},
   "source": [
    "The following function is used to create a row in the dataframe used in analysis"
   ]
  },
  {
   "cell_type": "code",
   "execution_count": 27,
   "id": "da49d9b6-1cd0-4939-823f-1a44894b5326",
   "metadata": {
    "tags": []
   },
   "outputs": [],
   "source": [
    "def compare_search(graph, route_num, start, end):\n",
    "    \n",
    "    #dfs\n",
    "    dfs_path, node_count_dfs = dfs(graph, start, end, False, False)\n",
    "    solution_dfs, total_time_dfs = construct_path(dfs_path, return_lines=True)\n",
    "    \n",
    "    #dfs inverted\n",
    "    dfs_path_rev, node_count_dfs_rev = dfs(graph, start, end, False, True)\n",
    "    solution_dfs_rev, total_time_dfs_rev = construct_path(dfs_path_rev, return_lines=True)\n",
    "    \n",
    "    #bfs\n",
    "    bfs_path, node_count_bfs = bfs(graph, start, end, False, False)\n",
    "    solution_bfs, total_time_bfs = construct_path(bfs_path, return_lines=True)\n",
    "    \n",
    "    #bfs_inv\n",
    "    bfs_path_rev, node_count_bfs_rev = bfs(graph, start, end, False, True)\n",
    "    solution_bfs_rev, total_time_bfs_rev = construct_path(bfs_path_rev, return_lines=True)\n",
    "    \n",
    "    #UCS\n",
    "    solution_ucs, node_count_ucs, total_time_ucs = ucs(graph, start, end, False, False)\n",
    "    \n",
    "    #ucs inv\n",
    "    solution_ucs_rev, node_count_ucs_rev, total_time_ucs_rev = ucs(graph, start, end, False, True)\n",
    "    \n",
    "    results = ([route_num, node_count_dfs, total_time_dfs, solution_dfs,\n",
    "               node_count_dfs_rev,total_time_dfs_rev, solution_dfs_rev,\n",
    "               node_count_bfs, total_time_bfs, solution_bfs,\n",
    "               node_count_bfs_rev, total_time_bfs_rev, solution_bfs_rev,\n",
    "               node_count_ucs,total_time_ucs,solution_ucs,\n",
    "               node_count_ucs_rev, total_time_ucs_rev, solution_ucs_rev])\n",
    "    \n",
    "    return results\n",
    "    \n"
   ]
  },
  {
   "cell_type": "markdown",
   "id": "0f4db065-0dee-4aa2-8271-d57ca035062d",
   "metadata": {},
   "source": [
    "Column definitions of the table"
   ]
  },
  {
   "cell_type": "code",
   "execution_count": 28,
   "id": "b586997b-c5b0-4289-83ab-b2d0e3373816",
   "metadata": {
    "tags": []
   },
   "outputs": [],
   "source": [
    "summary_table_columns = (['route_num', 'dfs_node_count', 'dfs_solution_time', 'dfs_solution',\n",
    "                        'dfs_rev_node_count', 'dfs_rev_solution_time','dfs_rev_solution',\n",
    "                        'bfs_node_count', 'bfs_solution_time', 'bfs_solution',\n",
    "                        'bfs_rev_node_count', 'bfs_rev_solution_time','bfs_rev_solution',\n",
    "                        'ucs_node_count', 'ucs_solution_time', 'ucs_solution',\n",
    "                        'ucs_rev_node_count', 'ucs_rev_solution_time','ucs_rev_solution'])"
   ]
  },
  {
   "cell_type": "code",
   "execution_count": 29,
   "id": "36eb868c-8fdc-450e-8947-e9c822073a62",
   "metadata": {},
   "outputs": [],
   "source": [
    "summary_table = []\n",
    "for route in routes:\n",
    "    start_fin = routes[route]\n",
    "    route_start = start_fin[0]\n",
    "    route_fin = start_fin[1]\n",
    "    #print(start_fin)\n",
    "    results = compare_search(tube_graph_multi,route,route_start,route_fin)\n",
    "    summary_table.append(results)\n",
    "    \n",
    "summary_df = pd.DataFrame(data=summary_table, columns=summary_table_columns)"
   ]
  },
  {
   "cell_type": "code",
   "execution_count": 30,
   "id": "5fa7c281-ec0f-4dd1-a44d-7dfb2236674e",
   "metadata": {
    "tags": []
   },
   "outputs": [
    {
     "name": "stdout",
     "output_type": "stream",
     "text": [
      "(100, 19)\n"
     ]
    },
    {
     "data": {
      "text/html": [
       "<div>\n",
       "<style scoped>\n",
       "    .dataframe tbody tr th:only-of-type {\n",
       "        vertical-align: middle;\n",
       "    }\n",
       "\n",
       "    .dataframe tbody tr th {\n",
       "        vertical-align: top;\n",
       "    }\n",
       "\n",
       "    .dataframe thead th {\n",
       "        text-align: right;\n",
       "    }\n",
       "</style>\n",
       "<table border=\"1\" class=\"dataframe\">\n",
       "  <thead>\n",
       "    <tr style=\"text-align: right;\">\n",
       "      <th></th>\n",
       "      <th>route_num</th>\n",
       "      <th>dfs_node_count</th>\n",
       "      <th>dfs_solution_time</th>\n",
       "      <th>dfs_solution</th>\n",
       "      <th>dfs_rev_node_count</th>\n",
       "      <th>dfs_rev_solution_time</th>\n",
       "      <th>dfs_rev_solution</th>\n",
       "      <th>bfs_node_count</th>\n",
       "      <th>bfs_solution_time</th>\n",
       "      <th>bfs_solution</th>\n",
       "      <th>bfs_rev_node_count</th>\n",
       "      <th>bfs_rev_solution_time</th>\n",
       "      <th>bfs_rev_solution</th>\n",
       "      <th>ucs_node_count</th>\n",
       "      <th>ucs_solution_time</th>\n",
       "      <th>ucs_solution</th>\n",
       "      <th>ucs_rev_node_count</th>\n",
       "      <th>ucs_rev_solution_time</th>\n",
       "      <th>ucs_rev_solution</th>\n",
       "    </tr>\n",
       "  </thead>\n",
       "  <tbody>\n",
       "    <tr>\n",
       "      <th>0</th>\n",
       "      <td>1</td>\n",
       "      <td>26</td>\n",
       "      <td>13</td>\n",
       "      <td>[(Euston, ), (King's Cross St. Pancras, Northe...</td>\n",
       "      <td>88</td>\n",
       "      <td>69</td>\n",
       "      <td>[(Euston, ), (Warren Street, Northern), (Goodg...</td>\n",
       "      <td>35</td>\n",
       "      <td>7</td>\n",
       "      <td>[(Euston, ), (Warren Street, Northern), (Oxfor...</td>\n",
       "      <td>34</td>\n",
       "      <td>7</td>\n",
       "      <td>[(Euston, ), (Warren Street, Northern), (Oxfor...</td>\n",
       "      <td>30</td>\n",
       "      <td>7</td>\n",
       "      <td>[(Euston, ), (Warren Street, Northern), (Oxfor...</td>\n",
       "      <td>28</td>\n",
       "      <td>7</td>\n",
       "      <td>[(Euston, ), (Warren Street, Northern), (Oxfor...</td>\n",
       "    </tr>\n",
       "    <tr>\n",
       "      <th>1</th>\n",
       "      <td>2</td>\n",
       "      <td>6</td>\n",
       "      <td>15</td>\n",
       "      <td>[(Canada Water, ), (Canary Wharf, Jubilee), (N...</td>\n",
       "      <td>263</td>\n",
       "      <td>24</td>\n",
       "      <td>[(Canada Water, ), (Rotherhithe, East London),...</td>\n",
       "      <td>40</td>\n",
       "      <td>15</td>\n",
       "      <td>[(Canada Water, ), (Canary Wharf, Jubilee), (N...</td>\n",
       "      <td>25</td>\n",
       "      <td>15</td>\n",
       "      <td>[(Canada Water, ), (Canary Wharf, Jubilee), (N...</td>\n",
       "      <td>52</td>\n",
       "      <td>14</td>\n",
       "      <td>[(Canada Water, ), (Rotherhithe, East London),...</td>\n",
       "      <td>52</td>\n",
       "      <td>14</td>\n",
       "      <td>[(Canada Water, ), (Rotherhithe, East London),...</td>\n",
       "    </tr>\n",
       "  </tbody>\n",
       "</table>\n",
       "</div>"
      ],
      "text/plain": [
       "   route_num  dfs_node_count  dfs_solution_time  \\\n",
       "0          1              26                 13   \n",
       "1          2               6                 15   \n",
       "\n",
       "                                        dfs_solution  dfs_rev_node_count  \\\n",
       "0  [(Euston, ), (King's Cross St. Pancras, Northe...                  88   \n",
       "1  [(Canada Water, ), (Canary Wharf, Jubilee), (N...                 263   \n",
       "\n",
       "   dfs_rev_solution_time                                   dfs_rev_solution  \\\n",
       "0                     69  [(Euston, ), (Warren Street, Northern), (Goodg...   \n",
       "1                     24  [(Canada Water, ), (Rotherhithe, East London),...   \n",
       "\n",
       "   bfs_node_count  bfs_solution_time  \\\n",
       "0              35                  7   \n",
       "1              40                 15   \n",
       "\n",
       "                                        bfs_solution  bfs_rev_node_count  \\\n",
       "0  [(Euston, ), (Warren Street, Northern), (Oxfor...                  34   \n",
       "1  [(Canada Water, ), (Canary Wharf, Jubilee), (N...                  25   \n",
       "\n",
       "   bfs_rev_solution_time                                   bfs_rev_solution  \\\n",
       "0                      7  [(Euston, ), (Warren Street, Northern), (Oxfor...   \n",
       "1                     15  [(Canada Water, ), (Canary Wharf, Jubilee), (N...   \n",
       "\n",
       "   ucs_node_count  ucs_solution_time  \\\n",
       "0              30                  7   \n",
       "1              52                 14   \n",
       "\n",
       "                                        ucs_solution  ucs_rev_node_count  \\\n",
       "0  [(Euston, ), (Warren Street, Northern), (Oxfor...                  28   \n",
       "1  [(Canada Water, ), (Rotherhithe, East London),...                  52   \n",
       "\n",
       "   ucs_rev_solution_time                                   ucs_rev_solution  \n",
       "0                      7  [(Euston, ), (Warren Street, Northern), (Oxfor...  \n",
       "1                     14  [(Canada Water, ), (Rotherhithe, East London),...  "
      ]
     },
     "execution_count": 30,
     "metadata": {},
     "output_type": "execute_result"
    }
   ],
   "source": [
    "print(summary_df.shape)\n",
    "summary_df.head(2)"
   ]
  },
  {
   "cell_type": "markdown",
   "id": "4667b640-9767-4142-8085-e586df130195",
   "metadata": {},
   "source": [
    "### Analysis"
   ]
  },
  {
   "cell_type": "markdown",
   "id": "b5f8f95c-5617-45b0-a9bd-74ba164be3aa",
   "metadata": {},
   "source": [
    "#### Q: Is any method consistently better?"
   ]
  },
  {
   "cell_type": "markdown",
   "id": "07d60fe6-22b3-40e4-a61c-b9be21f86cdb",
   "metadata": {},
   "source": [
    "I measure this questions in two ways, which method returns the fastest solutions, and which method explores the lowest number of nodes before finding a solution"
   ]
  },
  {
   "cell_type": "markdown",
   "id": "c653f90c-58e4-4eab-b28c-a985f262ed8e",
   "metadata": {},
   "source": [
    "I first compare the impact of reversing the order of the neighbors in the UCS solutions. There were no differnces in path cost or solution returned, but minor (less than three) differences in node counts"
   ]
  },
  {
   "cell_type": "code",
   "execution_count": 31,
   "id": "3c9d0b8a-bd6a-4f17-a670-b82ef9babb9d",
   "metadata": {},
   "outputs": [
    {
     "name": "stdout",
     "output_type": "stream",
     "text": [
      "(26, 19)\n",
      "(0, 19)\n",
      "(0, 19)\n"
     ]
    },
    {
     "data": {
      "text/html": [
       "<div>\n",
       "<style scoped>\n",
       "    .dataframe tbody tr th:only-of-type {\n",
       "        vertical-align: middle;\n",
       "    }\n",
       "\n",
       "    .dataframe tbody tr th {\n",
       "        vertical-align: top;\n",
       "    }\n",
       "\n",
       "    .dataframe thead th {\n",
       "        text-align: right;\n",
       "    }\n",
       "</style>\n",
       "<table border=\"1\" class=\"dataframe\">\n",
       "  <thead>\n",
       "    <tr style=\"text-align: right;\">\n",
       "      <th></th>\n",
       "      <th>ucs_node_count</th>\n",
       "      <th>ucs_rev_node_count</th>\n",
       "    </tr>\n",
       "  </thead>\n",
       "  <tbody>\n",
       "    <tr>\n",
       "      <th>0</th>\n",
       "      <td>30</td>\n",
       "      <td>28</td>\n",
       "    </tr>\n",
       "    <tr>\n",
       "      <th>3</th>\n",
       "      <td>50</td>\n",
       "      <td>49</td>\n",
       "    </tr>\n",
       "    <tr>\n",
       "      <th>7</th>\n",
       "      <td>92</td>\n",
       "      <td>91</td>\n",
       "    </tr>\n",
       "    <tr>\n",
       "      <th>8</th>\n",
       "      <td>21</td>\n",
       "      <td>20</td>\n",
       "    </tr>\n",
       "    <tr>\n",
       "      <th>12</th>\n",
       "      <td>45</td>\n",
       "      <td>43</td>\n",
       "    </tr>\n",
       "    <tr>\n",
       "      <th>17</th>\n",
       "      <td>78</td>\n",
       "      <td>77</td>\n",
       "    </tr>\n",
       "    <tr>\n",
       "      <th>25</th>\n",
       "      <td>53</td>\n",
       "      <td>54</td>\n",
       "    </tr>\n",
       "    <tr>\n",
       "      <th>26</th>\n",
       "      <td>10</td>\n",
       "      <td>9</td>\n",
       "    </tr>\n",
       "    <tr>\n",
       "      <th>28</th>\n",
       "      <td>31</td>\n",
       "      <td>32</td>\n",
       "    </tr>\n",
       "    <tr>\n",
       "      <th>32</th>\n",
       "      <td>54</td>\n",
       "      <td>53</td>\n",
       "    </tr>\n",
       "    <tr>\n",
       "      <th>37</th>\n",
       "      <td>59</td>\n",
       "      <td>60</td>\n",
       "    </tr>\n",
       "    <tr>\n",
       "      <th>39</th>\n",
       "      <td>260</td>\n",
       "      <td>261</td>\n",
       "    </tr>\n",
       "    <tr>\n",
       "      <th>40</th>\n",
       "      <td>243</td>\n",
       "      <td>242</td>\n",
       "    </tr>\n",
       "    <tr>\n",
       "      <th>43</th>\n",
       "      <td>3</td>\n",
       "      <td>2</td>\n",
       "    </tr>\n",
       "    <tr>\n",
       "      <th>53</th>\n",
       "      <td>132</td>\n",
       "      <td>131</td>\n",
       "    </tr>\n",
       "    <tr>\n",
       "      <th>61</th>\n",
       "      <td>76</td>\n",
       "      <td>75</td>\n",
       "    </tr>\n",
       "    <tr>\n",
       "      <th>66</th>\n",
       "      <td>13</td>\n",
       "      <td>14</td>\n",
       "    </tr>\n",
       "    <tr>\n",
       "      <th>71</th>\n",
       "      <td>53</td>\n",
       "      <td>52</td>\n",
       "    </tr>\n",
       "    <tr>\n",
       "      <th>72</th>\n",
       "      <td>250</td>\n",
       "      <td>252</td>\n",
       "    </tr>\n",
       "    <tr>\n",
       "      <th>73</th>\n",
       "      <td>266</td>\n",
       "      <td>265</td>\n",
       "    </tr>\n",
       "    <tr>\n",
       "      <th>74</th>\n",
       "      <td>65</td>\n",
       "      <td>66</td>\n",
       "    </tr>\n",
       "    <tr>\n",
       "      <th>79</th>\n",
       "      <td>207</td>\n",
       "      <td>209</td>\n",
       "    </tr>\n",
       "    <tr>\n",
       "      <th>81</th>\n",
       "      <td>63</td>\n",
       "      <td>64</td>\n",
       "    </tr>\n",
       "    <tr>\n",
       "      <th>83</th>\n",
       "      <td>128</td>\n",
       "      <td>129</td>\n",
       "    </tr>\n",
       "    <tr>\n",
       "      <th>89</th>\n",
       "      <td>36</td>\n",
       "      <td>38</td>\n",
       "    </tr>\n",
       "    <tr>\n",
       "      <th>96</th>\n",
       "      <td>28</td>\n",
       "      <td>26</td>\n",
       "    </tr>\n",
       "  </tbody>\n",
       "</table>\n",
       "</div>"
      ],
      "text/plain": [
       "    ucs_node_count  ucs_rev_node_count\n",
       "0               30                  28\n",
       "3               50                  49\n",
       "7               92                  91\n",
       "8               21                  20\n",
       "12              45                  43\n",
       "17              78                  77\n",
       "25              53                  54\n",
       "26              10                   9\n",
       "28              31                  32\n",
       "32              54                  53\n",
       "37              59                  60\n",
       "39             260                 261\n",
       "40             243                 242\n",
       "43               3                   2\n",
       "53             132                 131\n",
       "61              76                  75\n",
       "66              13                  14\n",
       "71              53                  52\n",
       "72             250                 252\n",
       "73             266                 265\n",
       "74              65                  66\n",
       "79             207                 209\n",
       "81              63                  64\n",
       "83             128                 129\n",
       "89              36                  38\n",
       "96              28                  26"
      ]
     },
     "execution_count": 31,
     "metadata": {},
     "output_type": "execute_result"
    }
   ],
   "source": [
    "node_dif = summary_df[(summary_df['ucs_node_count'] !=  summary_df['ucs_rev_node_count'] )]\n",
    "print(node_dif.shape)\n",
    "\n",
    "path_dif = summary_df[summary_df['ucs_solution'] !=  summary_df['ucs_rev_solution']]\n",
    "print(path_dif.shape)\n",
    "\n",
    "time_disc = summary_df[summary_df['ucs_solution_time'] !=  summary_df['ucs_rev_solution_time']]\n",
    "print(time_disc.shape)\n",
    "\n",
    "node_dif[['ucs_node_count','ucs_rev_node_count' ]].head(26)"
   ]
  },
  {
   "cell_type": "markdown",
   "id": "49950531-e427-4188-8366-08d568d46c64",
   "metadata": {},
   "source": [
    "The results for BFS and DFS are impacted by the ordering of neighbors. I average node count metrics and solution times across the non-reversed and reversed solutions for further analysis"
   ]
  },
  {
   "cell_type": "code",
   "execution_count": 32,
   "id": "8997e72e-79d3-4f2b-ac98-4c97403aadad",
   "metadata": {},
   "outputs": [],
   "source": [
    "summary_df['bfs_node_count_avg'] = summary_df.apply(lambda x: (x['bfs_node_count'] + x['bfs_rev_node_count'] )/2 ,axis=1)\n",
    "summary_df['bfs_solution_time_avg'] = summary_df.apply(lambda x: (x['bfs_solution_time'] + x['bfs_rev_solution_time'])/2 ,axis=1)\n",
    "summary_df['dfs_node_count_avg'] = summary_df.apply(lambda x: (x['dfs_node_count'] + x['dfs_rev_node_count'] )/2 ,axis=1)\n",
    "summary_df['dfs_solution_time_avg'] = summary_df.apply(lambda x: (x['dfs_solution_time'] + x['dfs_rev_solution_time'])/2 ,axis=1)\n",
    "summary_df['ucs_node_count_avg'] = summary_df.apply(lambda x: (x['ucs_node_count'] + x['ucs_rev_node_count'] )/2 ,axis=1)\n"
   ]
  },
  {
   "cell_type": "markdown",
   "id": "6f893e29-c647-46ef-9cc6-0a4acdb5d023",
   "metadata": {},
   "source": [
    "Now we Compare the number of nodes visited across algorithms"
   ]
  },
  {
   "cell_type": "code",
   "execution_count": 33,
   "id": "b19c39fe-049f-4163-b3ae-aeae1bbdd1b4",
   "metadata": {},
   "outputs": [],
   "source": [
    "#calculate minimum of three functions and assign value\n",
    "def is_min(dfs, bfs, ucs):\n",
    "    vals = [dfs,bfs,ucs]\n",
    "    min_val = min(vals)\n",
    "\n",
    "    min_name = ''\n",
    "    \n",
    "    if vals[0] == min_val:\n",
    "        min_name += 'DFS'\n",
    "    if vals[1] == min_val:\n",
    "        if len(min_name) == 0:\n",
    "            min_name += 'BFS'\n",
    "        else:\n",
    "            min_name += ', BFS'\n",
    "    if vals[2] == min_val:\n",
    "        if len(min_name) == 0:\n",
    "            min_name += 'UCS'\n",
    "        else:\n",
    "            min_name += ', UCS'\n",
    "    return min_name"
   ]
  },
  {
   "cell_type": "code",
   "execution_count": 34,
   "id": "b23a4eb3-ed59-4e9a-a3a0-af9c73f39cf0",
   "metadata": {},
   "outputs": [],
   "source": [
    "summary_df['min_nodes'] =  summary_df.apply(lambda x: \n",
    "                                             is_min(x['dfs_node_count_avg'], x['bfs_node_count_avg'], x['ucs_node_count_avg']) \n",
    "                                             ,axis=1)"
   ]
  },
  {
   "cell_type": "markdown",
   "id": "256dc6de-1c8e-49fa-a55f-63ba778e7cc3",
   "metadata": {},
   "source": [
    "The table below shows the number of routes with the minimum number of nodes explored by algorithm"
   ]
  },
  {
   "cell_type": "code",
   "execution_count": 35,
   "id": "5cc7ffde-6510-4b96-a5ad-c33b3f7ffaf1",
   "metadata": {},
   "outputs": [
    {
     "data": {
      "text/plain": [
       "min_nodes\n",
       "DFS              44\n",
       "BFS              28\n",
       "UCS              26\n",
       "BFS, UCS          1\n",
       "DFS, BFS, UCS     1\n",
       "Name: count, dtype: int64"
      ]
     },
     "execution_count": 35,
     "metadata": {},
     "output_type": "execute_result"
    }
   ],
   "source": [
    "summary_df['min_nodes'].value_counts()\n"
   ]
  },
  {
   "cell_type": "markdown",
   "id": "75a4cd8f-4d0a-4206-a9a9-92b81b63be71",
   "metadata": {},
   "source": [
    "Mean and median number of nodes explored by algorithm (note that for BFS and DFS we are computing the mean and median of the average of the reversed and non reversed cases)"
   ]
  },
  {
   "cell_type": "code",
   "execution_count": 36,
   "id": "0d953236-22fe-46d7-b0f3-b23df095e648",
   "metadata": {},
   "outputs": [
    {
     "name": "stdout",
     "output_type": "stream",
     "text": [
      "DFS: Mean: 140.46 Median: 143.5 \n",
      "BFS: Mean: 129.645 Median: 126.0 \n",
      "UCS: Mean: 132.54 Median: 140.0 \n"
     ]
    }
   ],
   "source": [
    "dfs_mean = summary_df['dfs_node_count_avg'].mean()\n",
    "dfs_median = summary_df['dfs_node_count_avg'].median()\n",
    "\n",
    "bfs_mean = summary_df['bfs_node_count_avg'].mean()\n",
    "bfs_median = summary_df['bfs_node_count_avg'].median()\n",
    "\n",
    "ucs_mean = summary_df['ucs_node_count'].mean()\n",
    "ucs_median = summary_df['ucs_node_count'].median()\n",
    "\n",
    "print('DFS: Mean: {0} Median: {1} '.format(dfs_mean ,dfs_median ))\n",
    "print('BFS: Mean: {0} Median: {1} '.format(bfs_mean ,bfs_median ))\n",
    "print('UCS: Mean: {0} Median: {1} '.format(ucs_mean ,ucs_median ))"
   ]
  },
  {
   "cell_type": "markdown",
   "id": "c9775631-b313-4b18-95bc-317c05625c20",
   "metadata": {},
   "source": [
    "Now Repeat the process for solution time"
   ]
  },
  {
   "cell_type": "code",
   "execution_count": 37,
   "id": "6d64cb85-b340-447e-80ec-6ac89a3b5484",
   "metadata": {},
   "outputs": [],
   "source": [
    "summary_df['min_time'] =  summary_df.apply(lambda x: \n",
    "                                             is_min(x['dfs_solution_time_avg'], x['bfs_solution_time_avg'], x['ucs_solution_time']) \n",
    "                                             ,axis=1)"
   ]
  },
  {
   "cell_type": "code",
   "execution_count": 38,
   "id": "6eb979da-0c00-4494-ad12-8de56e3dd1a5",
   "metadata": {},
   "outputs": [
    {
     "data": {
      "text/plain": [
       "min_time\n",
       "UCS              52\n",
       "BFS, UCS         44\n",
       "DFS, BFS, UCS     4\n",
       "Name: count, dtype: int64"
      ]
     },
     "execution_count": 38,
     "metadata": {},
     "output_type": "execute_result"
    }
   ],
   "source": [
    "summary_df['min_time'].value_counts()"
   ]
  },
  {
   "cell_type": "code",
   "execution_count": 39,
   "id": "8c21cbcd-f044-4def-a6ed-0858e96828bb",
   "metadata": {},
   "outputs": [
    {
     "name": "stdout",
     "output_type": "stream",
     "text": [
      "DFS: Mean: 84.5 Median: 86.0 \n",
      "BFS: Mean: 33.005 Median: 29.5 \n",
      "UCS: Mean: 31.9 Median: 29.0 \n"
     ]
    }
   ],
   "source": [
    "dfs_mean = summary_df['dfs_solution_time_avg'].mean()\n",
    "dfs_median = summary_df['dfs_solution_time_avg'].median()\n",
    "\n",
    "bfs_mean = summary_df['bfs_solution_time_avg'].mean()\n",
    "bfs_median = summary_df['bfs_solution_time_avg'].median()\n",
    "\n",
    "ucs_mean = summary_df['ucs_solution_time'].mean()\n",
    "ucs_median = summary_df['ucs_solution_time'].median()\n",
    "\n",
    "print('DFS: Mean: {0} Median: {1} '.format(dfs_mean ,dfs_median ))\n",
    "print('BFS: Mean: {0} Median: {1} '.format(bfs_mean ,bfs_median ))\n",
    "print('UCS: Mean: {0} Median: {1} '.format(ucs_mean ,ucs_median ))"
   ]
  },
  {
   "cell_type": "markdown",
   "id": "7f179de2-337d-47dc-bbc2-354f1146be82",
   "metadata": {},
   "source": [
    "#### Q: Report the returned path costs in terms of the count of the visited nodes for one route below (or any route of your choice) and explain your results based on the knowledge of costs each algorithm considers."
   ]
  },
  {
   "cell_type": "markdown",
   "id": "10b862eb-0511-4d74-bd11-54080283e388",
   "metadata": {},
   "source": [
    "For this example I will choose canada water to stratford (route number 2)\n",
    "\n",
    "As we can see below, the variance in the number of nodes explored in DFS and DFS with reversed neighbors is very large. DFS selects nodes using FIFO so its likely that the particular ordering of the neighbors happend to point the algorithm in a direction that lead to an effecient solution.\n",
    "\n",
    "When DFS was reversed, the number of nodes explored exploded. This is likely caused by the algorithm expanded nodes in a direction away from the goal state."
   ]
  },
  {
   "cell_type": "code",
   "execution_count": 40,
   "id": "225061d4-8a5c-49df-80c1-f98c5d024b3d",
   "metadata": {},
   "outputs": [
    {
     "name": "stdout",
     "output_type": "stream",
     "text": [
      "DFS: 6 nodes explored\n",
      "DFS Rev: 263 nodes explored\n",
      "BFS: 40 nodes explored\n",
      "BFS Rev: 25 nodes explored\n",
      "UCS: 52 nodes explored\n",
      "UCS Rev: 52 nodes explored\n"
     ]
    }
   ],
   "source": [
    "example = summary_df[summary_df['route_num'] == 2]\n",
    "dfs_node_count = example['dfs_node_count'].item()\n",
    "dfs_rev_node_count = example['dfs_rev_node_count'].item()\n",
    "bfs_node_count = example['bfs_node_count'].item()\n",
    "bfs_rev_node_count = example['bfs_rev_node_count'].item()\n",
    "ucs_node_count = example['ucs_node_count'].item()\n",
    "ucs_rev_node_count = example['ucs_rev_node_count'].item()\n",
    "print('DFS: {} nodes explored'.format(dfs_node_count))\n",
    "print('DFS Rev: {} nodes explored'.format(dfs_rev_node_count))\n",
    "print('BFS: {} nodes explored'.format(bfs_node_count))\n",
    "print('BFS Rev: {} nodes explored'.format(bfs_rev_node_count))\n",
    "print('UCS: {} nodes explored'.format(ucs_node_count))\n",
    "print('UCS Rev: {} nodes explored'.format(ucs_rev_node_count))"
   ]
  },
  {
   "cell_type": "code",
   "execution_count": 41,
   "id": "19b8b1fd-4e45-4b9d-81f0-7cee2707257e",
   "metadata": {},
   "outputs": [
    {
     "data": {
      "text/plain": [
       "[('Canada Water', ''),\n",
       " ('Canary Wharf', 'Jubilee'),\n",
       " ('North Greenwich', 'Jubilee'),\n",
       " ('Canning Town', 'Jubilee'),\n",
       " ('West Ham', 'Jubilee'),\n",
       " ('Stratford', 'Jubilee')]"
      ]
     },
     "execution_count": 41,
     "metadata": {},
     "output_type": "execute_result"
    }
   ],
   "source": [
    "example['dfs_solution'].item()"
   ]
  },
  {
   "cell_type": "markdown",
   "id": "ffd7ade6-b41f-447a-a917-108deef5a95a",
   "metadata": {},
   "source": [
    "#### Q: Report the returned path costs in terms of the average time taken for one route below (or any route of your choice) and explain your results based on the knowledge of costs each algorithm considers."
   ]
  },
  {
   "cell_type": "markdown",
   "id": "35ef5112-71ae-42cf-bcec-28daa72e23c4",
   "metadata": {},
   "source": [
    "UCS returned the solution with the lowest path cost. This is expected as UCS is optimal, so the solution is gaurenteed to minimize the summation of the average times between each station in a solution.\n",
    "\n",
    "DFS returned a solution that was close to the optimal solution cost with one ordering and a poor solution with reversed ordering. My interpretation is that the ordering of nodes expanded in the first case coincidentally was in the direction of the goal state. Its likely that when reversed, the algorithm expanded nodes in a different direction than the goal state leading to a less efficient solution.\n",
    "\n",
    "BFS in both orderings returned solutions that were close to the optimal path cost but slightly worse. BFS finds solutions that minimize depth so its likely that the algorithm minimized the number of edges to a solution, but couldn't account for path costs so did not return. It makes sense that minimizing the number of stations in a path from one station to another likely leads lower travel times given the context of the data."
   ]
  },
  {
   "cell_type": "code",
   "execution_count": 42,
   "id": "93309b76-8512-4253-8089-298a6870778a",
   "metadata": {},
   "outputs": [
    {
     "name": "stdout",
     "output_type": "stream",
     "text": [
      "DFS: 15 minutes in solution path\n",
      "DFS Rev: 24 minutes in solution path\n",
      "BFS: 15 minutes in solution path\n",
      "BFS Rev: 15 minutes in solution path\n",
      "UCS: 14 minutes in solution path\n"
     ]
    }
   ],
   "source": [
    "dfs_solution_time = example['dfs_solution_time'].item()\n",
    "dfs_rev_solution_time = example['dfs_rev_solution_time'].item()\n",
    "bfs_solution_time = example['bfs_solution_time'].item()\n",
    "bfs_rev_solution_time = example['bfs_rev_solution_time'].item()\n",
    "ucs_solution_time = example['ucs_solution_time'].item()\n",
    "print('DFS: {} minutes in solution path'.format(dfs_solution_time))\n",
    "print('DFS Rev: {} minutes in solution path'.format(dfs_rev_solution_time))\n",
    "print('BFS: {} minutes in solution path'.format(bfs_solution_time))\n",
    "print('BFS Rev: {} minutes in solution path'.format(bfs_rev_solution_time))\n",
    "print('UCS: {} minutes in solution path'.format(ucs_solution_time))"
   ]
  },
  {
   "cell_type": "markdown",
   "id": "7730efc3-40ae-47b8-8f75-d0b8b9662d23",
   "metadata": {},
   "source": [
    "In this case, it appears the optimal solution provided by UCS has a path length of 8 including the start and end stations. The BFS solution has a lower path length, but a higher travel time."
   ]
  },
  {
   "cell_type": "code",
   "execution_count": 43,
   "id": "fa39eb3c-fc4c-4b38-bdfe-97b508f46808",
   "metadata": {},
   "outputs": [
    {
     "name": "stdout",
     "output_type": "stream",
     "text": [
      "[('Canada Water', ''), ('Canary Wharf', 'Jubilee'), ('North Greenwich', 'Jubilee'), ('Canning Town', 'Jubilee'), ('West Ham', 'Jubilee'), ('Stratford', 'Jubilee')]\n",
      "6\n",
      "[('Canada Water', ''), ('Rotherhithe', 'East London'), ('Wapping', 'East London'), ('Shadwell', 'East London'), ('Whitechapel', 'East London'), ('Stepney Green', 'District'), ('Mile End', 'District'), ('Stratford', 'Central')]\n",
      "8\n"
     ]
    }
   ],
   "source": [
    "print(example['bfs_solution'].item())\n",
    "print(len(example['bfs_solution'].item()))\n",
    "print(example['ucs_solution'].item())\n",
    "print(len(example['ucs_solution'].item()))"
   ]
  },
  {
   "cell_type": "markdown",
   "id": "ad7d88e8-56e0-4d98-a94d-ef98de0ba0a1",
   "metadata": {},
   "source": [
    "#### Q: Report the returned path costs in terms of the visited nodes and the average time taken for one route below (or any route of your choice) for two different orders to process the nodes (direct and inverse order of explored nodes at each level) and explain your results for the three algorithms."
   ]
  },
  {
   "cell_type": "markdown",
   "id": "b4c99961-827a-411e-b66d-502ebec0ee1a",
   "metadata": {},
   "source": [
    "This question is covered in prior Questions.\n",
    "Ordering does not impact UCS because nodes are expanded in terms of the cost function which is largely independent of order. There may be some cases where two potential routes both minimize cost. The order that these nodes are expanded depends on implimentation of the queue. In this case, "
   ]
  },
  {
   "cell_type": "markdown",
   "id": "9560033e-03fb-4499-9b47-95a497001d77",
   "metadata": {},
   "source": [
    "#### Q: Explain how you overcame the loop issue in your code."
   ]
  },
  {
   "cell_type": "markdown",
   "id": "7287a9e2-4569-480c-a2f2-3ffae2ba7009",
   "metadata": {},
   "source": [
    "In each algorithm we mark each visted node as explored. When a node is expanded, the algorithms check to see if each child has already been visited. If a child has been visited, we know that we have already checked if the child is the goal and added paths to the children of the child to the queue. An infinite loop would require the algorithm to revisit nodes that it had expanded before. Because we cannot revisit nodes in any of the algorithms, this problem is impossible."
   ]
  },
  {
   "cell_type": "markdown",
   "id": "d96ba9b8-0667-4aa3-be24-099affb5da81",
   "metadata": {},
   "source": [
    "## Adding tube transfer time for improved performance\n",
    "\n",
    "**Q: Improve and implement the current UCS cost function to include the time to change lines at one station (e.g., 2 minutes). Using one of the routes mentioned above (or any route of your choice), give an example in your report of how this new cost has changed the paths returned by each algorithm. Explain which of the algorithms were not affected and why**"
   ]
  },
  {
   "cell_type": "markdown",
   "id": "33b232a6-48c9-439d-8b15-fbc54fef3af0",
   "metadata": {
    "tags": []
   },
   "source": [
    "The old cost function was the current cumulative path cost + the cost to reach a node on the frontier. The new cost function needs to consider the line taken to the previous node and the line of the next step.\n",
    "\n",
    "The following example provides insight on the design and impact of the new cost function: \n",
    "\n",
    "- Suppose there is a five station graph G with nodes a,b,c, d and e\n",
    "- We define out intial state as station a and the goal state as station e\n",
    "- The edges connecting a to b, b to c, c to d and d to e are on line 1\n",
    "- the edge connecting a to d is on line 2\n",
    "- the transition time from switching from one line to another is 3 minutes\n",
    "\n",
    "The plot below shows this case"
   ]
  },
  {
   "cell_type": "code",
   "execution_count": 44,
   "id": "1ba024f9-fdd7-4e12-ab13-504d7c69d7b8",
   "metadata": {},
   "outputs": [
    {
     "data": {
      "image/png": "[encoded data removed]",
      "text/plain": [
       "<Figure size 640x480 with 1 Axes>"
      ]
     },
     "metadata": {},
     "output_type": "display_data"
    }
   ],
   "source": [
    "ex_graph = nx.Graph()\n",
    "\n",
    "ex_graph.add_node('a')\n",
    "ex_graph.add_node('b')\n",
    "ex_graph.add_node('c')\n",
    "ex_graph.add_node('d')\n",
    "ex_graph.add_node('a')\n",
    "\n",
    "ex_graph.add_edge('a', 'b', weight = 1, key='Line 1: w 2')\n",
    "ex_graph.add_edge('b', 'c', weight = 1, key='Line 1: w 1')\n",
    "ex_graph.add_edge('c', 'd', weight = 1, key='Line 1: w 1')\n",
    "ex_graph.add_edge('a', 'd', weight = 1, key='Line 2: w 2')\n",
    "ex_graph.add_edge('d', 'e', weight = 1, key='Line 1: w 1')\n",
    "\n",
    "#code reference was nx documentation\n",
    "p = nx.spring_layout(ex_graph)\n",
    "\n",
    "nx.draw(ex_graph, p, with_labels=True, font_size= 20)\n",
    "lab1 = nx.get_edge_attributes(ex_graph,'key')\n",
    "lab2 = nx.get_edge_attributes(ex_graph,'weight')\n",
    "\n",
    "_ = nx.draw_networkx_edge_labels( ex_graph, p, edge_labels= lab1)\n"
   ]
  },
  {
   "cell_type": "markdown",
   "id": "ad0422d3-3540-452a-91f8-bb23efca1a51",
   "metadata": {},
   "source": [
    "If we add nodes to our explored list based solely on the station that is removed from the frontier, the fastest route will never be found. The cost of travel from a to d is 2, and the cost of travel from a to b to c is 3. d is explored before the path from station a to b to c to d can be added. The total path cost of a-d-e is 3+3 minutes of transition time while a-b-c-d-e is 5 minutes total.\n",
    "\n",
    "This example shows that we can't maintain optimality of UCS with the new cost function if we don't consider all possible paths (including lines) to a station."
   ]
  },
  {
   "cell_type": "markdown",
   "id": "6bbf207f-3f5b-410d-af91-b25c9a7f80bb",
   "metadata": {},
   "source": [
    "A simple adjustment could be made to definition of explored nodes to compensate for this. We no longer define an explored child based on the station that was opened, but the **path taken to the station that was opened**. This may be redundant because the algorithm will not reach a node in the exact same way more than once. This could lead to cases of infinite looping if no solution exists.\n",
    "\n",
    "That stated UCS will prioritize exploring paths with lower total cost so the lack of a set of explored nodes to check against shouldn't impede the algorithms ability to find the optimal solution if it exists "
   ]
  },
  {
   "cell_type": "markdown",
   "id": "c6852989-1fb8-42cd-88e6-a7f5e4ba4ba6",
   "metadata": {},
   "source": [
    "**With this considered, I will make the following changes to my UCS implimentation in 2.1**"
   ]
  },
  {
   "cell_type": "markdown",
   "id": "4a9c6273-5c60-4a05-a510-82a7dbe5b404",
   "metadata": {},
   "source": [
    "In the prior implementation of UCS, I chose to improve the efficiency of the algorithm by **only considering the fastest line** that connects two stations when searching for solutions. In this case, we will need to add a record to the frontier for each edge connecting two nodes because the line of an edge is needed to compute future costs."
   ]
  },
  {
   "cell_type": "markdown",
   "id": "b6e9b5fe-eea2-450f-9280-d5bec7731f5e",
   "metadata": {},
   "source": [
    "I will also remove the check for explored stations. As I mentioned the check for explored paths is redundant and check expanded stations leads to the potential for non optimal solutions. Because we expand nodes by cost, infinite looping will only occur if a solution doesn't exist. For this reason I added a cap to the number iterations that can occur in the while loop."
   ]
  },
  {
   "cell_type": "markdown",
   "id": "149fca7a-5f96-47b1-9c68-a8f944cb5dfd",
   "metadata": {},
   "source": [
    "As far as I can tell there is no lookup table to determine average time between lines at each station. In theory you could add to this function so that it takes in the station and consults a lookup table to get a more accurate estimation for walk time between the prior line and next line.\n",
    "For the sake of the assignment I approximate the time between any two lines as 2 minutes\n",
    "\n",
    "**The cost function is defined as: cumulative time to the current node + (2 if the line to the child is different than the previous line, 0 otherwise)**"
   ]
  },
  {
   "cell_type": "code",
   "execution_count": 45,
   "id": "7da2f927-7827-4bd7-9c30-70259324ab5d",
   "metadata": {
    "tags": []
   },
   "outputs": [],
   "source": [
    "def updated_cost_function(prior_line, next_line,current_path_weight, weight_to_child):\n",
    "    # if no transition, cost = current path cost + cost to child\n",
    "    if prior_line == next_line:\n",
    "        return current_path_weight + weight_to_child\n",
    "    #if transition, cost = current path cost + cost to child + 2\n",
    "    else:\n",
    "        return current_path_weight + weight_to_child + 2"
   ]
  },
  {
   "cell_type": "code",
   "execution_count": 46,
   "id": "81a58437-7798-40af-90b0-d78c8045d583",
   "metadata": {
    "tags": []
   },
   "outputs": [],
   "source": [
    "def ucs_cost_up(graph, initial, goal, print_exploration_cost=False, reverse=False):\n",
    "    number_of_explored_nodes = 0\n",
    "    frontier = PriorityQueue()\n",
    "    #Same implimentation of frontier as UCS in 2.1\n",
    "    #now the check to see if a \n",
    "    initial_record = [0, [(initial, '')]]\n",
    "    \n",
    "    frontier.put(initial_record)\n",
    "    iterations = 0\n",
    "    \n",
    "    while frontier and iterations <10000:\n",
    "        frontier_list = frontier.get()\n",
    "        current_path = frontier_list[1].copy()\n",
    "        current_node = frontier_list[1][-1][0]\n",
    "        prior_line = frontier_list[1][-1][1]\n",
    "        current_path_weight = frontier_list[0]\n",
    "        number_of_explored_nodes += 1\n",
    "        if current_node == goal:\n",
    "            return path_to_child, number_of_explored_nodes, current_path_weight\n",
    "    \n",
    "        if reverse:\n",
    "            neighbors = reversed(list(graph.neighbors(current_node)))\n",
    "        else:\n",
    "            neighbors = list(graph.neighbors(current_node))\n",
    "            \n",
    "        for child in neighbors:\n",
    "            #As explained in the earlier text, we need to consider all paths to each node for UCS to remain optimal\n",
    "            #iterate through each line that connects the current node to an unexplored child\n",
    "            #we add a record to frontier for each edge that connects the child to the current node\n",
    "            lines = graph.get_edge_data(current_node, child)\n",
    "            for line in lines:\n",
    "                weight_to_child = lines[line]['weight']\n",
    "                path_to_child = current_path.copy()\n",
    "                path_to_child.append((child,line))\n",
    "                path_weight_to_child = updated_cost_function(prior_line, line, current_path_weight, weight_to_child)\n",
    "                child_record = [path_weight_to_child, path_to_child]\n",
    "                #No check for child \n",
    "                child_record = (path_weight_to_child, path_to_child )\n",
    "                frontier.put(child_record)\n",
    "                \n",
    "    return None, None, None"
   ]
  },
  {
   "cell_type": "code",
   "execution_count": 47,
   "id": "8bd7bbe4-32f1-4a79-b38e-4b5f538d83cf",
   "metadata": {},
   "outputs": [],
   "source": [
    "def run_ucs_cost_up(start, end, reverse=False):\n",
    "    solution, node_count, total_time_ucs = ucs_cost_up(tube_graph_multi, start, end, False, reverse)\n",
    "    print('Path from start to end with station and line taken')\n",
    "    print(solution)\n",
    "    print('Average Time for Route: {}'.format(total_time_ucs))\n",
    "    print('Number of Paths Considered: {}'.format(node_count))\n",
    "    return solution"
   ]
  },
  {
   "cell_type": "code",
   "execution_count": 48,
   "id": "248259f2-edd9-4ada-ad80-ba0e751e999d",
   "metadata": {},
   "outputs": [
    {
     "name": "stdout",
     "output_type": "stream",
     "text": [
      "Path from start to end with station and line taken\n",
      "[('Euston', ''), ('Warren Street', 'Victoria'), ('Oxford Circus', 'Victoria'), ('Green Park', 'Victoria'), ('Oxford Circus', 'Victoria'), ('Green Park', 'Victoria')]\n",
      "Average Time for Route: 9\n",
      "Number of Paths Considered: 173\n"
     ]
    }
   ],
   "source": [
    "solution_ucs_cost_up = run_ucs_cost_up('Euston', 'Victoria')"
   ]
  },
  {
   "cell_type": "markdown",
   "id": "90201b73-4998-4584-b8a3-9a5e753d0117",
   "metadata": {},
   "source": [
    "### Comparison"
   ]
  },
  {
   "cell_type": "markdown",
   "id": "3c13a826-202c-4341-9e0f-0f1da2dedf29",
   "metadata": {},
   "source": [
    "**Q: Using one of the routes mentioned above (or any route of your choice), give an example in your report of how this new cost has changed the paths returned by each algorithm. Explain which of the algorithms were not affected and why**"
   ]
  },
  {
   "cell_type": "markdown",
   "id": "1073230c-b1b3-4697-9c18-ab10bf954888",
   "metadata": {},
   "source": [
    "DFS and BFS do not use the cost function to order the nodes they traverse. Adjusting this will have no impact on the solutions provided by these algorithms because nodes are expanded based on the order they are discovered."
   ]
  },
  {
   "cell_type": "markdown",
   "id": "2dbf953c-5ec0-4a76-9a5c-e99b78a8e947",
   "metadata": {},
   "source": [
    "In the case of UCS, Canada Water to Stratford provides a good example for the output changes"
   ]
  },
  {
   "cell_type": "code",
   "execution_count": 49,
   "id": "b90bee43-3e6e-4616-b7f1-847eb5fd7dcf",
   "metadata": {},
   "outputs": [
    {
     "name": "stdout",
     "output_type": "stream",
     "text": [
      "Path from start to end with station and line taken\n",
      "['Canada Water', 'Rotherhithe', 'Wapping', 'Shadwell', 'Whitechapel', 'Stepney Green', 'Mile End', 'Stratford']\n",
      "Average Time for Route: 14\n",
      "Number of Nodes Visited: 52\n"
     ]
    }
   ],
   "source": [
    "solution_ucs = run_ucs('Canada Water', 'Stratford')"
   ]
  },
  {
   "cell_type": "code",
   "execution_count": 50,
   "id": "f41f7201-951a-403f-b031-d9aa6dd43640",
   "metadata": {
    "tags": []
   },
   "outputs": [
    {
     "name": "stdout",
     "output_type": "stream",
     "text": [
      "Path from start to end with station and line taken\n",
      "[('Canada Water', ''), ('Canary Wharf', 'Jubilee'), ('North Greenwich', 'Jubilee'), ('Canning Town', 'Jubilee'), ('West Ham', 'Jubilee'), ('Canning Town', 'Jubilee'), ('West Ham', 'Jubilee')]\n",
      "Average Time for Route: 17\n",
      "Number of Paths Considered: 3950\n"
     ]
    }
   ],
   "source": [
    "solution_ucs_cost_up = run_ucs_cost_up('Canada Water', 'Stratford')"
   ]
  },
  {
   "cell_type": "markdown",
   "id": "cddabf69-1a3e-4bd3-afd9-9922c0945d47",
   "metadata": {},
   "source": [
    "## Hueristic Search"
   ]
  },
  {
   "cell_type": "markdown",
   "id": "6b78deec-99f1-482f-bbbd-facacccb1e29",
   "metadata": {
    "jp-MarkdownHeadingCollapsed": true
   },
   "source": [
    "### Setup"
   ]
  },
  {
   "cell_type": "markdown",
   "id": "24ef3891-4f11-421b-b827-dea8455b4b4b",
   "metadata": {},
   "source": [
    "**Q: Given that you know the zone(s) a station is in, consider how you might use this information to focus the search in the right direction and implement your heuristic Best-First Search (BFS) (Note: not Astar Search). Explain in the report the motivation for your heuristic and its formula, and illustrate its performance in terms of the average time taken as compared to the solution returned by UCS us- ing one of the routes mentioned above or any route of your choice (even if it does not work in practice).**"
   ]
  },
  {
   "cell_type": "markdown",
   "id": "6170d789-b2b1-45b8-91cd-33fce8bf671d",
   "metadata": {},
   "source": [
    "Best first search is a similar to uniform cost search, but instead of ordering our queue based on the cumulative cost to get to a child, we evaluate it solely on a heuristic. I will reuse the original implementation of UCS in 2.1 but adjust it to order records based on the heuristic function\n",
    "\n",
    "For clarity, my goal was to produce an admissable heuristic (not required) and thought this could be a clever way to do it"
   ]
  },
  {
   "cell_type": "markdown",
   "id": "f014b478-061e-4b9b-8444-540fbde9c1ed",
   "metadata": {},
   "source": [
    "### Methodology for the hueristic\n"
   ]
  },
  {
   "cell_type": "markdown",
   "id": "3168d1f4-9205-4eeb-9899-372f1356450d",
   "metadata": {},
   "source": [
    "Now, I return to the enhanced zone and minimum zone cost dictionaries.\n",
    "\n",
    "The goal is to produce a dictionary that can look at the zone of a child and calculate the minimum cost to move from the child's zone to the zone of the solution. This would function as an admissible heuristic that prioritizes expanding children in zones that have lower minimum costs to travel to the zone where the end station is located."
   ]
  },
  {
   "cell_type": "markdown",
   "id": "955d3e2c-4f1e-4c7d-8051-4a2911d369b3",
   "metadata": {},
   "source": [
    "To do this, I would like a dictionary that can look at the zone of the goal $z_g$ and the zone of the child $z_c$ and provide a minimum cost. The minimum time dictionary already provides this for a fair number of zones, but some pairs of zones are missing because there is no single edge that travels between them.\n",
    "\n",
    "To approximate these values I will use the minimum travel time records that are already available "
   ]
  },
  {
   "cell_type": "code",
   "execution_count": 51,
   "id": "ea831381-8331-4510-85f2-aa74c6be6f7d",
   "metadata": {},
   "outputs": [
    {
     "name": "stdout",
     "output_type": "stream",
     "text": [
      "{'5-4': 2, '4-5': 2, '4-4': 1, '4-3': 2, '3-4': 2, '3-3': 1, '3-2': 1, '2-3': 1, '2-2': 1, '2-1': 1, '1-2': 1, '1-1': 1, '6-5': 2, '5-6': 2, '5-5': 1, '4-6': 2, '6-4': 2, '6-6': 2, '2-4': 7, '4-2': 7, '6-a': 3, 'a-6': 3, 'a-a': 3, 'a-b': 4, 'b-a': 4, 'b-c': 4, 'c-b': 4, 'c-d': 8, 'd-c': 8, 'd-d': 4}\n"
     ]
    }
   ],
   "source": [
    "print(min_time_dict)"
   ]
  },
  {
   "cell_type": "markdown",
   "id": "7a3bd7a8-6e0c-4559-895d-64085c8f7353",
   "metadata": {},
   "source": [
    "Funnily enough, we can treat these records as edges in a graph and use UCS to find the combination of existing steps between zones that minimizes the travel time from any pair of zones that does not already exist.\n",
    "\n",
    "For example, say we want to compute the heuristic cost for a child in zone 1 when the goal is in zone 3. We have records in our data for 1-1, 1-2, 2-2, 2-3, 3-3\n",
    "\n",
    "The edge 1-1 represents the minimum travel time from a station in zone 1 to zone 1. 1-2 represents minimum travel time from a station in zone 1 to a station in zone 2 etc.\n",
    "\n",
    "We can guarantee the heuristic is admissible by treating the output as the combination of steps in our data that minimize the cost between these zones. We apply uniform cost search to find the optimal path of minimum cost zone transitions observed in the data."
   ]
  },
  {
   "cell_type": "code",
   "execution_count": 52,
   "id": "d43c2d5d-d1eb-4e5f-8620-ffbe795021c9",
   "metadata": {},
   "outputs": [],
   "source": [
    "zone_list = ['1','2','3','4','5','6','a', 'b', 'c','d']\n",
    "min_zone_graph = nx.Graph()\n",
    "\n",
    "for zone in zone_list:\n",
    "    if not min_zone_graph.has_node(zone):\n",
    "        min_zone_graph.add_node(zone)\n",
    "    for key in min_time_dict: \n",
    "        if key[0] == zone:\n",
    "            neighbor = key[2]\n",
    "            min_time = min_time_dict[key]\n",
    "            if not min_zone_graph.has_node(neighbor):\n",
    "                min_zone_graph.add_node(neighbor)\n",
    "            if not min_zone_graph.has_edge(zone, neighbor):\n",
    "                min_zone_graph.add_edge(zone, neighbor, weight = min_time)"
   ]
  },
  {
   "cell_type": "code",
   "execution_count": 53,
   "id": "b96557d3-08eb-43f2-961f-87e154bc03a4",
   "metadata": {},
   "outputs": [
    {
     "data": {
      "image/png": "[encoded data removed]",
      "text/plain": [
       "<Figure size 640x480 with 1 Axes>"
      ]
     },
     "metadata": {},
     "output_type": "display_data"
    }
   ],
   "source": [
    "nx.draw(min_zone_graph, with_labels=True, node_size=10, font_weight='bold', font_size = 20)"
   ]
  },
  {
   "cell_type": "code",
   "execution_count": 54,
   "id": "74110447-210b-4ed1-932c-80f2e22c0004",
   "metadata": {},
   "outputs": [],
   "source": [
    "def ucs_zone_min(graph, initial, goal):\n",
    "    frontier = PriorityQueue()\n",
    "    \n",
    "    frontier.put((0, [initial]))\n",
    "    explored = {initial}\n",
    "    \n",
    "    while frontier:\n",
    "        frontier_tuple = frontier.get()\n",
    "        current_path = frontier_tuple[1].copy()\n",
    "        #index is to grab the station name from most recent item in the path\n",
    "        current_node = current_path[-1]\n",
    "        current_path_weight = frontier_tuple[0]\n",
    "        explored.add(current_node)\n",
    "       \n",
    "        if current_node == goal:\n",
    "            return current_path, current_path_weight\n",
    "        \n",
    "        neighbors = list(graph.neighbors(current_node))\n",
    "            \n",
    "        for child in neighbors:\n",
    "            if child not in explored:\n",
    "                weight = graph.get_edge_data(current_node, child)['weight']\n",
    "                path_to_child = current_path.copy()\n",
    "                path_to_child.append(child)\n",
    "                path_weight_to_child = current_path_weight + weight\n",
    "                frontier.put((path_weight_to_child, path_to_child ))\n",
    "                \n",
    "    return None"
   ]
  },
  {
   "cell_type": "code",
   "execution_count": 55,
   "id": "c35d9c63-3fae-4515-91f8-2bec7db5bbd3",
   "metadata": {},
   "outputs": [],
   "source": [
    "for i in zone_list:\n",
    "    for j in zone_list:\n",
    "        key = i+'-'+ j\n",
    "        if key not in min_time_dict:\n",
    "            _, min_time = ucs_zone_min(min_zone_graph, i, j)\n",
    "            min_time_dict[key] = min_time\n",
    "            "
   ]
  },
  {
   "cell_type": "markdown",
   "id": "549a3c7a-7e19-49b3-90ab-8474f1a57928",
   "metadata": {},
   "source": [
    "Final dictionary"
   ]
  },
  {
   "cell_type": "code",
   "execution_count": 56,
   "id": "9b671165-8b8e-4d58-8a1e-0f3a4392abb0",
   "metadata": {},
   "outputs": [
    {
     "name": "stdout",
     "output_type": "stream",
     "text": [
      "{'5-4': 2, '4-5': 2, '4-4': 1, '4-3': 2, '3-4': 2, '3-3': 1, '3-2': 1, '2-3': 1, '2-2': 1, '2-1': 1, '1-2': 1, '1-1': 1, '6-5': 2, '5-6': 2, '5-5': 1, '4-6': 2, '6-4': 2, '6-6': 2, '2-4': 7, '4-2': 7, '6-a': 3, 'a-6': 3, 'a-a': 3, 'a-b': 4, 'b-a': 4, 'b-c': 4, 'c-b': 4, 'c-d': 8, 'd-c': 8, 'd-d': 4, '1-3': 2, '1-4': 4, '1-5': 6, '1-6': 6, '1-a': 9, '1-b': 13, '1-c': 17, '1-d': 25, '2-5': 5, '2-6': 5, '2-a': 8, '2-b': 12, '2-c': 16, '2-d': 24, '3-1': 2, '3-5': 4, '3-6': 4, '3-a': 7, '3-b': 11, '3-c': 15, '3-d': 23, '4-1': 4, '4-a': 5, '4-b': 9, '4-c': 13, '4-d': 21, '5-1': 6, '5-2': 5, '5-3': 4, '5-a': 5, '5-b': 9, '5-c': 13, '5-d': 21, '6-1': 6, '6-2': 5, '6-3': 4, '6-b': 7, '6-c': 11, '6-d': 19, 'a-1': 9, 'a-2': 8, 'a-3': 7, 'a-4': 5, 'a-5': 5, 'a-c': 8, 'a-d': 16, 'b-1': 13, 'b-2': 12, 'b-3': 11, 'b-4': 9, 'b-5': 9, 'b-6': 7, 'b-b': 0, 'b-d': 12, 'c-1': 17, 'c-2': 16, 'c-3': 15, 'c-4': 13, 'c-5': 13, 'c-6': 11, 'c-a': 8, 'c-c': 0, 'd-1': 25, 'd-2': 24, 'd-3': 23, 'd-4': 21, 'd-5': 21, 'd-6': 19, 'd-a': 16, 'd-b': 12}\n"
     ]
    }
   ],
   "source": [
    "print(min_time_dict)"
   ]
  },
  {
   "cell_type": "markdown",
   "id": "6fcaddae-e480-4fd4-b032-618d57d1d4f8",
   "metadata": {},
   "source": [
    "### Implementation"
   ]
  },
  {
   "cell_type": "code",
   "execution_count": 57,
   "id": "623b4a11-041d-448e-b11e-509785475935",
   "metadata": {},
   "outputs": [],
   "source": [
    "def hueristic(node, exit):\n",
    "    exit_zones = zone_dict_enh[exit]['main_zones']\n",
    "    node_zones = zone_dict_enh[node]['main_zones']\n",
    "    \n",
    "    #child node is solution\n",
    "    if node == exit:\n",
    "        return 0\n",
    "\n",
    "    min_times = []\n",
    "    #iterate through all combinations of the zone of the node we are evaluating and the zone of the exit node\n",
    "    #append the minimum times between theses combinations of zones to a list and return minimum\n",
    "    for zone1 in exit_zones:\n",
    "        for zone2 in node_zones:\n",
    "            key = zone1 + '-' + zone2\n",
    "            min_times.append(min_time_dict[key])\n",
    "    return min(min_times)"
   ]
  },
  {
   "cell_type": "code",
   "execution_count": 58,
   "id": "8aca6cad-111d-4bd6-95f0-84044de00d91",
   "metadata": {},
   "outputs": [],
   "source": [
    "#exact same implimentation as UCS in 2.1 besides replacement of the cost function with the hueristic \n",
    "#and the rearrangmenet of where the cumulative cost is stored\n",
    "def best_first_search(graph, initial, goal, print_exploration_cost=False, reverse=False):\n",
    "    number_of_explored_nodes = 0\n",
    "    frontier = PriorityQueue()\n",
    "    frontier.put((0, [(initial, 0 , '')]))\n",
    "    explored = {initial}\n",
    "    \n",
    "\n",
    "    while frontier:\n",
    "        frontier_tuple = frontier.get()\n",
    "        current_path = frontier_tuple[1].copy()\n",
    "        current_node = frontier_tuple[1][-1][0]\n",
    "        #accesing the middle element (cumulative weight) of the most recent tuple appended to the current path\n",
    "        #added cumulative weight to this tuple because it was tracked in the space that ranks priority queue in prior implimentation\n",
    "        current_path_weight = frontier_tuple[1][-1][1] \n",
    "        explored.add(current_node)\n",
    "        number_of_explored_nodes += 1\n",
    "        \n",
    "        if current_node == goal:\n",
    "            if print_exploration_cost:\n",
    "                print('UCS graph search explored {} nodes'.format(number_of_explored_nodes))\n",
    "            return current_path, number_of_explored_nodes, current_path_weight\n",
    "        \n",
    "        if reverse:\n",
    "            neighbors = reversed(list(graph.neighbors(current_node)))\n",
    "        else:\n",
    "            neighbors = list(graph.neighbors(current_node))\n",
    "            \n",
    "        for child in neighbors:\n",
    "            if child not in explored:\n",
    "                lines = graph.get_edge_data(current_node, child)\n",
    "                edge_costs = []\n",
    "                for line in lines:\n",
    "                    weight = lines[line]['weight']\n",
    "                    edge_costs.append((weight, line))\n",
    "                fastest_line =  min(edge_costs)\n",
    "                weight_to_child = fastest_line[0]\n",
    "                path_to_child = current_path.copy()\n",
    "                #cumulative weight of path is now calculated before appending record to list\n",
    "                path_weight_to_child = current_path_weight + weight_to_child\n",
    "                path_to_child.append((child, path_weight_to_child, line))\n",
    "                hueristic_val = hueristic(child, goal)\n",
    "                frontier.put((hueristic_val, path_to_child ))\n",
    "                \n",
    "    return None\n",
    "   "
   ]
  },
  {
   "cell_type": "code",
   "execution_count": 59,
   "id": "d87e8d4d-92bd-4607-a6bc-a425fd43757e",
   "metadata": {},
   "outputs": [],
   "source": [
    "def run_best_first_search(start, end, reverse=False):\n",
    "    solution, node_count, total_time_bfs = best_first_search(tube_graph_multi, start, end, False, reverse)\n",
    "    #remove path weights that were stored \n",
    "    for i in range(0,len(solution)):\n",
    "        step = solution[i]\n",
    "        solution[i] = (step[0], step[2])\n",
    "    print('Path from start to end with station and line taken')\n",
    "    print(solution)\n",
    "    print('Average Time for Route: {}'.format(total_time_bfs))\n",
    "    print('Number of Nodes Visited: {}'.format(node_count))\n",
    "    return solution"
   ]
  },
  {
   "cell_type": "markdown",
   "id": "740c94f1-d295-4dae-a803-7fdd1521c266",
   "metadata": {},
   "source": [
    "### Comparison"
   ]
  },
  {
   "cell_type": "markdown",
   "id": "16577c57-cc39-4401-af71-ef60bb170621",
   "metadata": {},
   "source": [
    "The first comparison I did was from Canada Water to stratford. The algorithm returned a solution path that was 1 minute slower by only checking 13% of the nodes that UCS did to find the optimal solution. Zones are radial and in this case, the stations are located about on the same half of the circle. The huersitic encourages movement to zones that are close in minimum distance to the goal zone. It makes sense that the solution is directed around the circle and close/within zone 3."
   ]
  },
  {
   "cell_type": "code",
   "execution_count": 60,
   "id": "a5b903b4-901b-4ce6-8cde-89277af8a3d4",
   "metadata": {},
   "outputs": [
    {
     "name": "stdout",
     "output_type": "stream",
     "text": [
      "{'main_zones': {'2'}, 'connected_zones': {'2'}}\n",
      "{'main_zones': {'3'}, 'connected_zones': {'3', '2'}}\n"
     ]
    }
   ],
   "source": [
    "print(zone_dict_enh['Canada Water'])\n",
    "print(zone_dict_enh['Stratford'])"
   ]
  },
  {
   "cell_type": "code",
   "execution_count": 61,
   "id": "2a867778-c96f-475b-907a-f1c67e44c559",
   "metadata": {},
   "outputs": [
    {
     "name": "stdout",
     "output_type": "stream",
     "text": [
      "Path from start to end with station and line taken\n",
      "[('Canada Water', ''), ('Canary Wharf', 'Jubilee'), ('North Greenwich', 'Jubilee'), ('Canning Town', 'Jubilee'), ('West Ham', 'Jubilee'), ('Stratford', 'Jubilee')]\n",
      "Average Time for Route: 15\n",
      "Number of Nodes Visited: 7\n"
     ]
    }
   ],
   "source": [
    "solution_bfs = run_best_first_search('Canada Water','Stratford')"
   ]
  },
  {
   "cell_type": "code",
   "execution_count": 62,
   "id": "72681d21-b2e2-4eb8-9502-614e7c7a2d67",
   "metadata": {},
   "outputs": [
    {
     "name": "stdout",
     "output_type": "stream",
     "text": [
      "Path from start to end with station and line taken\n",
      "[('Canada Water', ''), ('Rotherhithe', 'East London'), ('Wapping', 'East London'), ('Shadwell', 'East London'), ('Whitechapel', 'East London'), ('Stepney Green', 'District'), ('Mile End', 'District'), ('Stratford', 'Central')]\n",
      "Average Time for Route: 14\n",
      "Number of Nodes Visited: 52\n"
     ]
    }
   ],
   "source": [
    "solution_ucs = run_ucs('Canada Water','Stratford', False, True)"
   ]
  },
  {
   "cell_type": "markdown",
   "id": "c32d8209-04cf-4e51-94f4-adee3a4e0dee",
   "metadata": {},
   "source": [
    "I checked another example to see the flaws of the heurstic. Euston to Victoria are both in zone 1. Best first search provides a solution with a cost significantly higher than UCS and only expands a slightly smaller number of nodes. I believe this has to do with the necessisity of zone 1. There is a high concentration of stations in this area and there is no way to discriminate between which path is better. "
   ]
  },
  {
   "cell_type": "code",
   "execution_count": 63,
   "id": "f3413a3e-3d85-42d8-bac4-ce659f616c01",
   "metadata": {},
   "outputs": [
    {
     "name": "stdout",
     "output_type": "stream",
     "text": [
      "{'main_zones': {'1'}, 'connected_zones': {'1', '2'}}\n",
      "{'main_zones': {'1'}, 'connected_zones': {'1'}}\n"
     ]
    }
   ],
   "source": [
    "print(zone_dict_enh['Euston'])\n",
    "print(zone_dict_enh['Victoria'])"
   ]
  },
  {
   "cell_type": "code",
   "execution_count": 64,
   "id": "5d5f7e25-4afc-443b-b1a5-51f2f493f7c4",
   "metadata": {},
   "outputs": [
    {
     "name": "stdout",
     "output_type": "stream",
     "text": [
      "Path from start to end with station and line taken\n",
      "[('Euston', ''), (\"King's Cross St. Pancras\", 'Victoria'), ('Angel', 'Northern'), ('Old Street', 'Northern'), ('Moorgate', 'Northern'), ('Bank/Monument', 'Northern'), ('Cannon Street', 'District'), ('Mansion House', 'District'), ('Blackfriars', 'District'), ('Temple', 'District'), ('Embankment', 'District'), ('Charing Cross', 'Northern'), ('Leicester Square', 'Northern'), ('Covent Garden', 'Piccadilly'), ('Holborn', 'Piccadilly'), ('Tottenham Court Road', 'Central'), ('Goodge Street', 'Northern'), ('Warren Street', 'Northern'), ('Oxford Circus', 'Victoria'), ('Bond Street', 'Central'), ('Baker Street', 'Jubilee'), ('Edgware Road', 'Hammersmith & City'), ('Paddington', 'Hammersmith & City'), ('Bayswater', 'District'), ('Notting Hill Gate', 'District'), ('High Street Kensington', 'District'), (\"Earls' Court\", 'District'), ('Gloucester Road', 'Piccadilly'), ('South Kensington', 'Piccadilly'), ('Knightsbridge', 'Piccadilly'), ('Hyde Park Corner', 'Piccadilly'), ('Green Park', 'Piccadilly'), ('Victoria', 'Victoria')]\n",
      "Average Time for Route: 61\n",
      "Number of Nodes Visited: 54\n"
     ]
    }
   ],
   "source": [
    "solution_bfs = run_best_first_search('Euston','Victoria')"
   ]
  },
  {
   "cell_type": "code",
   "execution_count": 65,
   "id": "4a9f09a3-18e7-48ba-8432-e076833cc818",
   "metadata": {
    "scrolled": true
   },
   "outputs": [
    {
     "name": "stdout",
     "output_type": "stream",
     "text": [
      "Path from start to end with station and line taken\n",
      "['Euston', 'Warren Street', 'Oxford Circus', 'Green Park', 'Victoria']\n",
      "Average Time for Route: 7\n",
      "Number of Nodes Visited: 30\n"
     ]
    }
   ],
   "source": [
    "solution_ucs = run_ucs('Euston','Victoria')"
   ]
  },
  {
   "cell_type": "markdown",
   "id": "759bbefc-efbf-4d51-80ef-77e7f8ccb746",
   "metadata": {},
   "source": [
    "The heuristic struggles with solutions from east to west that traverse zone 1 as for the same reason. Overall I was still impressed by the ability of the huerstic considering it is still returns pratical paths in a fair number of solutions, and could be used with A* while preserving optimality"
   ]
  },
  {
   "cell_type": "code",
   "execution_count": 66,
   "id": "d82919e9-a27e-4e53-b457-3a02b2e32380",
   "metadata": {},
   "outputs": [
    {
     "name": "stdout",
     "output_type": "stream",
     "text": [
      "Path from start to end with station and line taken\n",
      "[('Chiswick Park', ''), ('Acton Town', 'District'), ('Ealing Common', 'Piccadilly'), ('Ealing Broadway', 'District'), ('West Acton', 'Central'), ('North Acton', 'Central'), ('East Acton', 'Central'), ('White City', 'Central'), (\"Shepherd's Bush\", 'Central'), ('Goldhawk Road', 'Hammersmith & City'), ('Hammersmith', 'Hammersmith & City'), ('Barons Court', 'Piccadilly'), (\"Earls' Court\", 'Piccadilly'), ('Gloucester Road', 'Piccadilly'), ('High Street Kensington', 'Circle'), ('Notting Hill Gate', 'District'), ('Bayswater', 'District'), ('Paddington', 'District'), ('Edgware Road', 'Hammersmith & City'), ('Baker Street', 'Hammersmith & City'), ('Bond Street', 'Jubilee'), ('Green Park', 'Jubilee'), ('Hyde Park Corner', 'Piccadilly'), ('Knightsbridge', 'Piccadilly'), ('South Kensington', 'Piccadilly'), ('Sloane Square', 'District'), ('Victoria', 'District'), (\"St. James' Park\", 'District'), ('Westminster', 'District'), ('Embankment', 'District'), ('Charing Cross', 'Northern'), ('Leicester Square', 'Northern'), ('Covent Garden', 'Piccadilly'), ('Holborn', 'Piccadilly'), ('Chancery Lane', 'Central'), (\"St. Paul's\", 'Central'), ('Bank/Monument', 'Central'), ('Liverpool Street', 'Central'), ('Aldgate', 'Metropolitan'), ('Tower Hill', 'Circle'), ('Aldgate East', 'District'), ('Whitechapel', 'Hammersmith & City'), ('Shadwell', 'East London'), ('Wapping', 'East London'), ('Rotherhithe', 'East London'), ('Canada Water', 'East London'), ('Canary Wharf', 'Jubilee'), ('North Greenwich', 'Jubilee'), ('Canning Town', 'Jubilee'), ('West Ham', 'Jubilee'), ('Stratford', 'Jubilee'), ('Leyton', 'Central'), ('Leytonstone', 'Central'), ('Snaresbrook', 'Central')]\n",
      "Average Time for Route: 117\n",
      "Number of Nodes Visited: 195\n"
     ]
    }
   ],
   "source": [
    "solution_bfs = run_best_first_search('Chiswick Park','Snaresbrook')"
   ]
  },
  {
   "cell_type": "code",
   "execution_count": 67,
   "id": "e47d2f97-dec3-4cdd-9b6f-dfc7fd061100",
   "metadata": {},
   "outputs": [
    {
     "name": "stdout",
     "output_type": "stream",
     "text": [
      "Path from start to end with station and line taken\n",
      "['Chiswick Park', 'Turnham Green', 'Hammersmith', 'Barons Court', \"Earls' Court\", 'Gloucester Road', 'South Kensington', 'Sloane Square', 'Victoria', \"St. James' Park\", 'Westminster', 'Waterloo', 'Bank/Monument', 'Liverpool Street', 'Bethnal Green', 'Mile End', 'Stratford', 'Leyton', 'Leytonstone', 'Snaresbrook']\n",
      "Average Time for Route: 44\n",
      "Number of Nodes Visited: 230\n"
     ]
    }
   ],
   "source": [
    "solution_ucs = run_ucs('Chiswick Park','Snaresbrook')"
   ]
  },
  {
   "cell_type": "markdown",
   "id": "53b91d3f-3539-468d-981e-84f0118e7bc4",
   "metadata": {},
   "source": [
    "With Population size 100, mutation rate = .1, and crossover rate = .5\n",
    "\n",
    "Mean number of iterations to finding solution is: 47.4\n",
    "The standard deviation is 9.45\n",
    "\n",
    "Note that this is not reproducible"
   ]
  },
  {
   "cell_type": "code",
   "execution_count": 81,
   "id": "88c3789b-6b77-4588-995f-38a8ed9a4d51",
   "metadata": {},
   "outputs": [],
   "source": [
    "import numpy as np"
   ]
  },
  {
   "cell_type": "code",
   "execution_count": 82,
   "id": "edd56ac1-4783-4e1a-9e9b-79c6fd0e879a",
   "metadata": {
    "scrolled": true
   },
   "outputs": [
    {
     "name": "stdout",
     "output_type": "stream",
     "text": [
      "password for ec23800: MIYOANVCUO found in 32 generations\n",
      "password for ec23800: MIYOANVCUO found in 44 generations\n",
      "password for ec23800: MIYOANVCUO found in 44 generations\n",
      "password for ec23800: MIYOANVCUO found in 39 generations\n",
      "password for ec23800: MIYOANVCUO found in 31 generations\n",
      "password for ec23800: MIYOANVCUO found in 40 generations\n",
      "password for ec23800: MIYOANVCUO found in 43 generations\n",
      "password for ec23800: MIYOANVCUO found in 45 generations\n",
      "password for ec23800: MIYOANVCUO found in 50 generations\n",
      "password for ec23800: MIYOANVCUO found in 31 generations\n",
      "Mean Number of Iterations before Solution 39.9\n",
      "Std of Iterations before Solution 6.268173577685928\n"
     ]
    }
   ],
   "source": [
    "gens = []\n",
    "for i in range(10):\n",
    "    sol_gen = run_genetic()\n",
    "    gens.append(sol_gen)\n",
    "print('Mean Number of Iterations before Solution {}'.format(np.mean(gens)))\n",
    "print('Std of Iterations before Solution {}'.format(np.std(gens)))"
   ]
  },
  {
   "cell_type": "markdown",
   "id": "a80b601e-78c8-42eb-85f4-f23f7838a42a",
   "metadata": {},
   "source": [
    "I will compare how mutation and cross over rates impact the average"
   ]
  },
  {
   "cell_type": "markdown",
   "id": "0aa91596-93b6-4b87-a91f-e307b6f1512a",
   "metadata": {},
   "source": [
    "**The following two cells can take ~4 minutes to run** "
   ]
  },
  {
   "cell_type": "code",
   "execution_count": 83,
   "id": "8cb9599e-3e4f-44e4-826b-c2674e20263a",
   "metadata": {},
   "outputs": [
    {
     "name": "stdout",
     "output_type": "stream",
     "text": [
      "0\n",
      "0.1\n",
      "0.2\n",
      "0.3\n",
      "0.4\n",
      "0.5\n",
      "0.6\n",
      "0.7\n",
      "0.8\n",
      "0.9\n",
      "1\n"
     ]
    }
   ],
   "source": [
    "#calculating mutation rate for a number of values where cross over rate is equal to .5\n",
    "#the genetic algorithm is run 10 times for each mutation rate\n",
    "#if a solution is not found for any of the iterations, the converge column is false and the mean/std are Null\n",
    "mut_rate = [0,.1,.2,.3,.4,.5,.6,.7,.8,.9,1]\n",
    "columns_mr = ['mut_rate','mean_gens','std_gens','converge','num_converge' ]\n",
    "data_mr = []\n",
    "for mr in mut_rate:\n",
    "    print(mr)\n",
    "    row = [mr]\n",
    "    gens = []\n",
    "    converge = True\n",
    "    num_coverge = 10\n",
    "    for i in range(10):\n",
    "        sol_gen = run_genetic(p_mut=mr, p_rc = .5, print_result=False)\n",
    "        gens.append(sol_gen)\n",
    "        if sol_gen is None:\n",
    "            converge = False\n",
    "            num_coverge -= 1\n",
    "    if converge:\n",
    "        mean_gens = np.mean(gens)\n",
    "        std_gens = np.std(gens)\n",
    "        row.append(mean_gens)\n",
    "        row.append(std_gens)\n",
    "        row.append(converge)\n",
    "        row.append(num_coverge)\n",
    "        data_mr.append(row)\n",
    "    else:\n",
    "        row.append(None)\n",
    "        row.append(None)\n",
    "        row.append(converge)\n",
    "        row.append(num_coverge)\n",
    "        data_mr.append(row)"
   ]
  },
  {
   "cell_type": "code",
   "execution_count": 84,
   "id": "c3b1e732-11c1-414f-962a-2cd2c043d7cf",
   "metadata": {},
   "outputs": [
    {
     "name": "stdout",
     "output_type": "stream",
     "text": [
      "0\n",
      "0.1\n",
      "0.2\n",
      "0.3\n",
      "0.4\n",
      "0.5\n",
      "0.6\n",
      "0.7\n",
      "0.8\n",
      "0.9\n",
      "1\n"
     ]
    }
   ],
   "source": [
    "#the same approach used in the prior cell but for crossover rate\n",
    "#in this case mutation rate is held at .1\n",
    "cross_rate = [0,.1,.2,.3,.4,.5,.6,.7,.8,.9,1]\n",
    "columns_cr = ['cross_rate','mean_gens','std_gens','converge', 'num_converge']\n",
    "data_cr = []\n",
    "for cr in cross_rate:\n",
    "    print(cr)\n",
    "    row = [cr]\n",
    "    gens = []\n",
    "    converge = True\n",
    "    num_coverge = 10\n",
    "    for i in range(10):\n",
    "        sol_gen = run_genetic(p_mut=.1, p_rc = cr, print_result=False)\n",
    "        gens.append(sol_gen)\n",
    "        if sol_gen is None:\n",
    "            converge = False\n",
    "            num_coverge -= 1\n",
    "    if converge:\n",
    "        mean_gens = np.mean(gens)\n",
    "        std_gens = np.std(gens)\n",
    "        row.append(mean_gens)\n",
    "        row.append(std_gens)\n",
    "        row.append(converge)\n",
    "        row.append(num_coverge)\n",
    "        data_cr.append(row)\n",
    "    else:\n",
    "        row.append(None)\n",
    "        row.append(None)\n",
    "        row.append(converge)\n",
    "        row.append(num_coverge)\n",
    "        data_cr.append(row)"
   ]
  },
  {
   "cell_type": "code",
   "execution_count": 85,
   "id": "4ecfa1c9-e19d-4038-a134-8ef38d6abe9b",
   "metadata": {},
   "outputs": [],
   "source": [
    "summary_mr = pd.DataFrame(data = data_mr, columns = columns_mr)\n",
    "summary_cr = pd.DataFrame(data = data_cr, columns = columns_cr)"
   ]
  },
  {
   "cell_type": "markdown",
   "id": "c9c7e4a1-28f9-4a5e-a1fa-d3a91d027ddd",
   "metadata": {},
   "source": [
    "As we can see when crossover rate is equal to .5, the algorithm does not find a solution in each of the 10 iterations when the mutation rate is 0, or the mutation rate is above a certain threshold\n",
    "\n",
    "When the mutation rate is zero, the algorithm has no way to incorporate characters that are not in the intial population into the solution.\n",
    "\n",
    "When the mutation rate is large, the amount of randomness introduced into a new population increases. This expands the number of solutions considered, but convergence can take much longer"
   ]
  },
  {
   "cell_type": "code",
   "execution_count": 86,
   "id": "90273677-a38a-4d26-b297-348a1f2ba4ac",
   "metadata": {},
   "outputs": [
    {
     "data": {
      "text/html": [
       "<div>\n",
       "<style scoped>\n",
       "    .dataframe tbody tr th:only-of-type {\n",
       "        vertical-align: middle;\n",
       "    }\n",
       "\n",
       "    .dataframe tbody tr th {\n",
       "        vertical-align: top;\n",
       "    }\n",
       "\n",
       "    .dataframe thead th {\n",
       "        text-align: right;\n",
       "    }\n",
       "</style>\n",
       "<table border=\"1\" class=\"dataframe\">\n",
       "  <thead>\n",
       "    <tr style=\"text-align: right;\">\n",
       "      <th></th>\n",
       "      <th>mut_rate</th>\n",
       "      <th>mean_gens</th>\n",
       "      <th>std_gens</th>\n",
       "      <th>converge</th>\n",
       "      <th>num_converge</th>\n",
       "    </tr>\n",
       "  </thead>\n",
       "  <tbody>\n",
       "    <tr>\n",
       "      <th>0</th>\n",
       "      <td>0.0</td>\n",
       "      <td>NaN</td>\n",
       "      <td>NaN</td>\n",
       "      <td>False</td>\n",
       "      <td>0</td>\n",
       "    </tr>\n",
       "    <tr>\n",
       "      <th>1</th>\n",
       "      <td>0.1</td>\n",
       "      <td>43.8</td>\n",
       "      <td>17.434449</td>\n",
       "      <td>True</td>\n",
       "      <td>10</td>\n",
       "    </tr>\n",
       "    <tr>\n",
       "      <th>2</th>\n",
       "      <td>0.2</td>\n",
       "      <td>45.1</td>\n",
       "      <td>17.958007</td>\n",
       "      <td>True</td>\n",
       "      <td>10</td>\n",
       "    </tr>\n",
       "    <tr>\n",
       "      <th>3</th>\n",
       "      <td>0.3</td>\n",
       "      <td>88.0</td>\n",
       "      <td>38.241339</td>\n",
       "      <td>True</td>\n",
       "      <td>10</td>\n",
       "    </tr>\n",
       "    <tr>\n",
       "      <th>4</th>\n",
       "      <td>0.4</td>\n",
       "      <td>NaN</td>\n",
       "      <td>NaN</td>\n",
       "      <td>False</td>\n",
       "      <td>9</td>\n",
       "    </tr>\n",
       "    <tr>\n",
       "      <th>5</th>\n",
       "      <td>0.5</td>\n",
       "      <td>NaN</td>\n",
       "      <td>NaN</td>\n",
       "      <td>False</td>\n",
       "      <td>6</td>\n",
       "    </tr>\n",
       "    <tr>\n",
       "      <th>6</th>\n",
       "      <td>0.6</td>\n",
       "      <td>NaN</td>\n",
       "      <td>NaN</td>\n",
       "      <td>False</td>\n",
       "      <td>1</td>\n",
       "    </tr>\n",
       "    <tr>\n",
       "      <th>7</th>\n",
       "      <td>0.7</td>\n",
       "      <td>NaN</td>\n",
       "      <td>NaN</td>\n",
       "      <td>False</td>\n",
       "      <td>0</td>\n",
       "    </tr>\n",
       "    <tr>\n",
       "      <th>8</th>\n",
       "      <td>0.8</td>\n",
       "      <td>NaN</td>\n",
       "      <td>NaN</td>\n",
       "      <td>False</td>\n",
       "      <td>0</td>\n",
       "    </tr>\n",
       "    <tr>\n",
       "      <th>9</th>\n",
       "      <td>0.9</td>\n",
       "      <td>NaN</td>\n",
       "      <td>NaN</td>\n",
       "      <td>False</td>\n",
       "      <td>0</td>\n",
       "    </tr>\n",
       "    <tr>\n",
       "      <th>10</th>\n",
       "      <td>1.0</td>\n",
       "      <td>NaN</td>\n",
       "      <td>NaN</td>\n",
       "      <td>False</td>\n",
       "      <td>0</td>\n",
       "    </tr>\n",
       "  </tbody>\n",
       "</table>\n",
       "</div>"
      ],
      "text/plain": [
       "    mut_rate  mean_gens   std_gens  converge  num_converge\n",
       "0        0.0        NaN        NaN     False             0\n",
       "1        0.1       43.8  17.434449      True            10\n",
       "2        0.2       45.1  17.958007      True            10\n",
       "3        0.3       88.0  38.241339      True            10\n",
       "4        0.4        NaN        NaN     False             9\n",
       "5        0.5        NaN        NaN     False             6\n",
       "6        0.6        NaN        NaN     False             1\n",
       "7        0.7        NaN        NaN     False             0\n",
       "8        0.8        NaN        NaN     False             0\n",
       "9        0.9        NaN        NaN     False             0\n",
       "10       1.0        NaN        NaN     False             0"
      ]
     },
     "execution_count": 86,
     "metadata": {},
     "output_type": "execute_result"
    }
   ],
   "source": [
    "summary_mr.head(11)"
   ]
  },
  {
   "cell_type": "markdown",
   "id": "1bc09734-a3b8-4ad1-be7f-cd26ea83f1d8",
   "metadata": {},
   "source": [
    "It appears that in this case, the number of generations needed to find a solution increased as the mutation rate increased in the cases where all iterations of the algorithms found the solution"
   ]
  },
  {
   "cell_type": "code",
   "execution_count": 87,
   "id": "2bdc6e83-6fa1-4dd0-aad6-98407e65816c",
   "metadata": {},
   "outputs": [
    {
     "data": {
      "text/plain": [
       "Text(0, 0.5, 'mean generations to solution')"
      ]
     },
     "execution_count": 87,
     "metadata": {},
     "output_type": "execute_result"
    },
    {
     "data": {
      "image/png": "[encoded data removed]",
      "text/plain": [
       "<Figure size 640x480 with 1 Axes>"
      ]
     },
     "metadata": {},
     "output_type": "display_data"
    }
   ],
   "source": [
    "mr_converge = summary_mr[summary_mr['converge'] == True]\n",
    "plt.plot(mr_converge['mut_rate'],mr_converge['mean_gens'] )\n",
    "plt.xlabel('mutation rate (cross rate = .5)')\n",
    "plt.ylabel('mean generations to solution')"
   ]
  },
  {
   "cell_type": "markdown",
   "id": "68e3a44a-a6e3-45c6-af99-e282194be5db",
   "metadata": {},
   "source": [
    "It appears that as the mutation rate increases, the standard deviation of the number of the number of generations to find a solution increases. Again, as randomness introduced to our individuals increases, the range of time it takes to find a solution increases. Mutation introduces both bad and good solutions into the population."
   ]
  },
  {
   "cell_type": "code",
   "execution_count": 88,
   "id": "c3f29212-d33f-4ba3-a0f5-0576c5587e42",
   "metadata": {},
   "outputs": [
    {
     "data": {
      "text/plain": [
       "Text(0, 0.5, 'std of generations to solution')"
      ]
     },
     "execution_count": 88,
     "metadata": {},
     "output_type": "execute_result"
    },
    {
     "data": {
      "image/png": "[encoded data removed]",
      "text/plain": [
       "<Figure size 640x480 with 1 Axes>"
      ]
     },
     "metadata": {},
     "output_type": "display_data"
    }
   ],
   "source": [
    "mr_converge = summary_mr[summary_mr['converge'] == True]\n",
    "plt.plot(mr_converge['mut_rate'],mr_converge['std_gens'] )\n",
    "plt.xlabel('mutation rate (cross rate = .5)')\n",
    "plt.ylabel('std of generations to solution')"
   ]
  },
  {
   "cell_type": "markdown",
   "id": "3579c364-622d-4d65-826e-fdabb8a08869",
   "metadata": {},
   "source": [
    "Of the values I tested for the crossover rate, the only times the algorithm did not find a solution in 400 generations was when no crossovers took place.\n",
    "\n",
    "In this case, the only operator making changes to the population is the mutation operator. The algorithm is no longer recombining potential solutions so we are only making random changes to the solutions. This explains the lack of convergence"
   ]
  },
  {
   "cell_type": "code",
   "execution_count": 89,
   "id": "9e3df7b8-7251-4a58-8b02-d89ab5d29909",
   "metadata": {},
   "outputs": [
    {
     "data": {
      "text/html": [
       "<div>\n",
       "<style scoped>\n",
       "    .dataframe tbody tr th:only-of-type {\n",
       "        vertical-align: middle;\n",
       "    }\n",
       "\n",
       "    .dataframe tbody tr th {\n",
       "        vertical-align: top;\n",
       "    }\n",
       "\n",
       "    .dataframe thead th {\n",
       "        text-align: right;\n",
       "    }\n",
       "</style>\n",
       "<table border=\"1\" class=\"dataframe\">\n",
       "  <thead>\n",
       "    <tr style=\"text-align: right;\">\n",
       "      <th></th>\n",
       "      <th>cross_rate</th>\n",
       "      <th>mean_gens</th>\n",
       "      <th>std_gens</th>\n",
       "      <th>converge</th>\n",
       "      <th>num_converge</th>\n",
       "    </tr>\n",
       "  </thead>\n",
       "  <tbody>\n",
       "    <tr>\n",
       "      <th>0</th>\n",
       "      <td>0.0</td>\n",
       "      <td>NaN</td>\n",
       "      <td>NaN</td>\n",
       "      <td>False</td>\n",
       "      <td>3</td>\n",
       "    </tr>\n",
       "    <tr>\n",
       "      <th>1</th>\n",
       "      <td>0.1</td>\n",
       "      <td>111.1</td>\n",
       "      <td>30.713027</td>\n",
       "      <td>True</td>\n",
       "      <td>10</td>\n",
       "    </tr>\n",
       "    <tr>\n",
       "      <th>2</th>\n",
       "      <td>0.2</td>\n",
       "      <td>77.6</td>\n",
       "      <td>18.189008</td>\n",
       "      <td>True</td>\n",
       "      <td>10</td>\n",
       "    </tr>\n",
       "    <tr>\n",
       "      <th>3</th>\n",
       "      <td>0.3</td>\n",
       "      <td>59.1</td>\n",
       "      <td>15.782585</td>\n",
       "      <td>True</td>\n",
       "      <td>10</td>\n",
       "    </tr>\n",
       "    <tr>\n",
       "      <th>4</th>\n",
       "      <td>0.4</td>\n",
       "      <td>47.2</td>\n",
       "      <td>11.548160</td>\n",
       "      <td>True</td>\n",
       "      <td>10</td>\n",
       "    </tr>\n",
       "    <tr>\n",
       "      <th>5</th>\n",
       "      <td>0.5</td>\n",
       "      <td>48.7</td>\n",
       "      <td>14.464093</td>\n",
       "      <td>True</td>\n",
       "      <td>10</td>\n",
       "    </tr>\n",
       "    <tr>\n",
       "      <th>6</th>\n",
       "      <td>0.6</td>\n",
       "      <td>40.3</td>\n",
       "      <td>10.507616</td>\n",
       "      <td>True</td>\n",
       "      <td>10</td>\n",
       "    </tr>\n",
       "    <tr>\n",
       "      <th>7</th>\n",
       "      <td>0.7</td>\n",
       "      <td>44.4</td>\n",
       "      <td>14.284257</td>\n",
       "      <td>True</td>\n",
       "      <td>10</td>\n",
       "    </tr>\n",
       "    <tr>\n",
       "      <th>8</th>\n",
       "      <td>0.8</td>\n",
       "      <td>39.6</td>\n",
       "      <td>11.689311</td>\n",
       "      <td>True</td>\n",
       "      <td>10</td>\n",
       "    </tr>\n",
       "    <tr>\n",
       "      <th>9</th>\n",
       "      <td>0.9</td>\n",
       "      <td>30.2</td>\n",
       "      <td>8.897191</td>\n",
       "      <td>True</td>\n",
       "      <td>10</td>\n",
       "    </tr>\n",
       "    <tr>\n",
       "      <th>10</th>\n",
       "      <td>1.0</td>\n",
       "      <td>32.7</td>\n",
       "      <td>9.370699</td>\n",
       "      <td>True</td>\n",
       "      <td>10</td>\n",
       "    </tr>\n",
       "  </tbody>\n",
       "</table>\n",
       "</div>"
      ],
      "text/plain": [
       "    cross_rate  mean_gens   std_gens  converge  num_converge\n",
       "0          0.0        NaN        NaN     False             3\n",
       "1          0.1      111.1  30.713027      True            10\n",
       "2          0.2       77.6  18.189008      True            10\n",
       "3          0.3       59.1  15.782585      True            10\n",
       "4          0.4       47.2  11.548160      True            10\n",
       "5          0.5       48.7  14.464093      True            10\n",
       "6          0.6       40.3  10.507616      True            10\n",
       "7          0.7       44.4  14.284257      True            10\n",
       "8          0.8       39.6  11.689311      True            10\n",
       "9          0.9       30.2   8.897191      True            10\n",
       "10         1.0       32.7   9.370699      True            10"
      ]
     },
     "execution_count": 89,
     "metadata": {},
     "output_type": "execute_result"
    }
   ],
   "source": [
    "summary_cr.head(11)"
   ]
  },
  {
   "cell_type": "markdown",
   "id": "0d7a9ee4-9213-4802-8e18-1a9d42d6d8ba",
   "metadata": {},
   "source": [
    "In this case it appears that the average number of generations needed to find a solution decreases as the crossover rate increases. As the crossover rate increases, a larger number of solutions is considered in selection. Its possible that the increased number of solutions leads to better options being picked at each generation, increasing the speed that a solution is found. Its also possible that it leads to the amplification of solutions with strong fitness. As cross over rate increases, a larger percentage of solutions will produce two children. If every strong solution is duplicated, varations of these solutions will make up a larger percentage of the population that is considered in the next generation"
   ]
  },
  {
   "cell_type": "code",
   "execution_count": 90,
   "id": "e3afb23a-c7c1-4f82-adc8-3d8b18def558",
   "metadata": {},
   "outputs": [
    {
     "data": {
      "text/plain": [
       "Text(0, 0.5, 'mean generations to solution')"
      ]
     },
     "execution_count": 90,
     "metadata": {},
     "output_type": "execute_result"
    },
    {
     "data": {
      "image/png": "[encoded data removed]",
      "text/plain": [
       "<Figure size 640x480 with 1 Axes>"
      ]
     },
     "metadata": {},
     "output_type": "display_data"
    }
   ],
   "source": [
    "cr_converge = summary_cr[summary_cr['converge'] == True]\n",
    "plt.plot(cr_converge['cross_rate'],cr_converge['mean_gens'] )\n",
    "plt.xlabel('crossover rate (mutation rate = .1)')\n",
    "plt.ylabel('mean generations to solution')"
   ]
  },
  {
   "cell_type": "markdown",
   "id": "84008246-bdf9-47b9-a36f-ebfd4985397c",
   "metadata": {},
   "source": [
    "The standard deviation of the number of generations to find a solution appears to decrease as the crossover rate increases. The trend is not as clear as the one observed in the analysis of mutation rate, however this could be aproduct of the effect I explained previously. strong solutions are amplified through variations produced through recombination, leading to a more narrow focus of the population at earlier generations."
   ]
  },
  {
   "cell_type": "code",
   "execution_count": 92,
   "id": "6fb843d1-2ceb-40cb-ba8f-57c1ea8444ed",
   "metadata": {},
   "outputs": [
    {
     "data": {
      "text/plain": [
       "Text(0, 0.5, 'std of generations to solution')"
      ]
     },
     "execution_count": 92,
     "metadata": {},
     "output_type": "execute_result"
    },
    {
     "data": {
      "image/png": "[encoded data removed]",
      "text/plain": [
       "<Figure size 640x480 with 1 Axes>"
      ]
     },
     "metadata": {},
     "output_type": "display_data"
    }
   ],
   "source": [
    "cr_converge = summary_cr[summary_cr['converge'] == True]\n",
    "plt.plot(cr_converge['cross_rate'],cr_converge['std_gens'] )\n",
    "plt.xlabel('crossover rate (mutation rate = .1)')\n",
    "plt.ylabel('std of generations to solution')"
   ]
  },
  {
   "cell_type": "code",
   "execution_count": null,
   "id": "238b79b2-bbb2-4ad0-80fa-518a5f28182e",
   "metadata": {},
   "outputs": [],
   "source": []
  }
 ],
 "metadata": {
  "kernelspec": {
   "display_name": "Python 3 (ipykernel)",
   "language": "python",
   "name": "python3"
  },
  "language_info": {
   "codemirror_mode": {
    "name": "ipython",
    "version": 3
   },
   "file_extension": ".py",
   "mimetype": "text/x-python",
   "name": "python",
   "nbconvert_exporter": "python",
   "pygments_lexer": "ipython3",
   "version": "3.10.13"
  }
 },
 "nbformat": 4,
 "nbformat_minor": 5
}
